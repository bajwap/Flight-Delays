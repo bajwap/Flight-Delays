{
 "cells": [
  {
   "cell_type": "markdown",
   "metadata": {},
   "source": [
    "## Exploratory Data Analysis\n",
    "\n",
    "Use this notebook to get familiar with the datasets we have. There is 10 questions we need to answer during the EDA.\n",
    "\n",
    "\n",
    "We shouldn't limit our EDA to these 10 questions. Let's be creative :)."
   ]
  },
  {
   "cell_type": "code",
   "execution_count": 17,
   "metadata": {},
   "outputs": [],
   "source": [
    "import pandas as pd\n",
    "import matplotlib.pyplot as plt\n",
    "import seaborn as sns"
   ]
  },
  {
   "cell_type": "markdown",
   "metadata": {},
   "source": [
    "#### **Task 1**: Test the hypothesis that the delay is from Normal distribution. and that **mean** of the delay is 0. Be careful about the outliers."
   ]
  },
  {
   "cell_type": "code",
   "execution_count": 14,
   "metadata": {},
   "outputs": [],
   "source": [
    "import scipy.stats as st"
   ]
  },
  {
   "cell_type": "code",
   "execution_count": 36,
   "metadata": {},
   "outputs": [],
   "source": [
    "df = pd.read_csv('arr_delay.csv', sep=',')\n",
    "df = df.drop(columns = 'Unnamed: 0')"
   ]
  },
  {
   "cell_type": "code",
   "execution_count": 37,
   "metadata": {},
   "outputs": [
    {
     "data": {
      "text/html": [
       "<div>\n",
       "<style scoped>\n",
       "    .dataframe tbody tr th:only-of-type {\n",
       "        vertical-align: middle;\n",
       "    }\n",
       "\n",
       "    .dataframe tbody tr th {\n",
       "        vertical-align: top;\n",
       "    }\n",
       "\n",
       "    .dataframe thead th {\n",
       "        text-align: right;\n",
       "    }\n",
       "</style>\n",
       "<table border=\"1\" class=\"dataframe\">\n",
       "  <thead>\n",
       "    <tr style=\"text-align: right;\">\n",
       "      <th></th>\n",
       "      <th>fl_date</th>\n",
       "      <th>arr_delay</th>\n",
       "    </tr>\n",
       "  </thead>\n",
       "  <tbody>\n",
       "    <tr>\n",
       "      <th>0</th>\n",
       "      <td>2018-10-06</td>\n",
       "      <td>-20.0</td>\n",
       "    </tr>\n",
       "    <tr>\n",
       "      <th>1</th>\n",
       "      <td>2018-10-06</td>\n",
       "      <td>-34.0</td>\n",
       "    </tr>\n",
       "    <tr>\n",
       "      <th>2</th>\n",
       "      <td>2018-10-06</td>\n",
       "      <td>-22.0</td>\n",
       "    </tr>\n",
       "    <tr>\n",
       "      <th>3</th>\n",
       "      <td>2018-10-06</td>\n",
       "      <td>-10.0</td>\n",
       "    </tr>\n",
       "    <tr>\n",
       "      <th>4</th>\n",
       "      <td>2018-10-06</td>\n",
       "      <td>-1.0</td>\n",
       "    </tr>\n",
       "  </tbody>\n",
       "</table>\n",
       "</div>"
      ],
      "text/plain": [
       "      fl_date  arr_delay\n",
       "0  2018-10-06      -20.0\n",
       "1  2018-10-06      -34.0\n",
       "2  2018-10-06      -22.0\n",
       "3  2018-10-06      -10.0\n",
       "4  2018-10-06       -1.0"
      ]
     },
     "execution_count": 37,
     "metadata": {},
     "output_type": "execute_result"
    }
   ],
   "source": [
    "df.head(5)"
   ]
  },
  {
   "cell_type": "code",
   "execution_count": 38,
   "metadata": {},
   "outputs": [
    {
     "data": {
      "text/html": [
       "<div>\n",
       "<style scoped>\n",
       "    .dataframe tbody tr th:only-of-type {\n",
       "        vertical-align: middle;\n",
       "    }\n",
       "\n",
       "    .dataframe tbody tr th {\n",
       "        vertical-align: top;\n",
       "    }\n",
       "\n",
       "    .dataframe thead th {\n",
       "        text-align: right;\n",
       "    }\n",
       "</style>\n",
       "<table border=\"1\" class=\"dataframe\">\n",
       "  <thead>\n",
       "    <tr style=\"text-align: right;\">\n",
       "      <th></th>\n",
       "      <th>arr_delay</th>\n",
       "    </tr>\n",
       "  </thead>\n",
       "  <tbody>\n",
       "    <tr>\n",
       "      <th>count</th>\n",
       "      <td>97925.000000</td>\n",
       "    </tr>\n",
       "    <tr>\n",
       "      <th>mean</th>\n",
       "      <td>7.920694</td>\n",
       "    </tr>\n",
       "    <tr>\n",
       "      <th>std</th>\n",
       "      <td>47.660122</td>\n",
       "    </tr>\n",
       "    <tr>\n",
       "      <th>min</th>\n",
       "      <td>-104.000000</td>\n",
       "    </tr>\n",
       "    <tr>\n",
       "      <th>25%</th>\n",
       "      <td>-13.000000</td>\n",
       "    </tr>\n",
       "    <tr>\n",
       "      <th>50%</th>\n",
       "      <td>-4.000000</td>\n",
       "    </tr>\n",
       "    <tr>\n",
       "      <th>75%</th>\n",
       "      <td>11.000000</td>\n",
       "    </tr>\n",
       "    <tr>\n",
       "      <th>max</th>\n",
       "      <td>1537.000000</td>\n",
       "    </tr>\n",
       "  </tbody>\n",
       "</table>\n",
       "</div>"
      ],
      "text/plain": [
       "          arr_delay\n",
       "count  97925.000000\n",
       "mean       7.920694\n",
       "std       47.660122\n",
       "min     -104.000000\n",
       "25%      -13.000000\n",
       "50%       -4.000000\n",
       "75%       11.000000\n",
       "max     1537.000000"
      ]
     },
     "execution_count": 38,
     "metadata": {},
     "output_type": "execute_result"
    }
   ],
   "source": [
    "df.describe()"
   ]
  },
  {
   "cell_type": "code",
   "execution_count": 39,
   "metadata": {},
   "outputs": [
    {
     "data": {
      "text/plain": [
       "array([-20., -34., -22., ...,  nan,  nan,  nan])"
      ]
     },
     "execution_count": 39,
     "metadata": {},
     "output_type": "execute_result"
    }
   ],
   "source": [
    "arr_delay = df['arr_delay'].values\n",
    "arr_delay"
   ]
  },
  {
   "cell_type": "code",
   "execution_count": 73,
   "metadata": {},
   "outputs": [],
   "source": [
    "statistic, pvalue = st.shapiro(arr_delay[0:500])"
   ]
  },
  {
   "cell_type": "code",
   "execution_count": 74,
   "metadata": {},
   "outputs": [
    {
     "name": "stdout",
     "output_type": "stream",
     "text": [
      "nan 1.0\n"
     ]
    }
   ],
   "source": [
    "print(statistic, pvalue)"
   ]
  },
  {
   "cell_type": "markdown",
   "metadata": {},
   "source": [
    "p-value is > 0.05 so data is not normal"
   ]
  },
  {
   "cell_type": "code",
   "execution_count": 42,
   "metadata": {},
   "outputs": [
    {
     "data": {
      "text/plain": [
       "<AxesSubplot:xlabel='arr_delay', ylabel='Count'>"
      ]
     },
     "execution_count": 42,
     "metadata": {},
     "output_type": "execute_result"
    },
    {
     "data": {
      "image/png": "[encoded data removed]",
      "text/plain": [
       "<Figure size 432x288 with 1 Axes>"
      ]
     },
     "metadata": {
      "needs_background": "light"
     },
     "output_type": "display_data"
    }
   ],
   "source": [
    "sns.histplot(df['arr_delay'])"
   ]
  },
  {
   "cell_type": "code",
   "execution_count": 43,
   "metadata": {},
   "outputs": [
    {
     "data": {
      "text/plain": [
       "1537.0"
      ]
     },
     "execution_count": 43,
     "metadata": {},
     "output_type": "execute_result"
    }
   ],
   "source": [
    "max(df['arr_delay'])"
   ]
  },
  {
   "cell_type": "code",
   "execution_count": 44,
   "metadata": {},
   "outputs": [
    {
     "data": {
      "text/plain": [
       "<matplotlib.collections.PathCollection at 0x7fe862cb5a60>"
      ]
     },
     "execution_count": 44,
     "metadata": {},
     "output_type": "execute_result"
    },
    {
     "data": {
      "image/png": "[encoded data removed]",
      "text/plain": [
       "<Figure size 432x288 with 1 Axes>"
      ]
     },
     "metadata": {
      "needs_background": "light"
     },
     "output_type": "display_data"
    }
   ],
   "source": [
    "plt.scatter(x=df.index, y=df['arr_delay'])"
   ]
  },
  {
   "cell_type": "code",
   "execution_count": null,
   "metadata": {},
   "outputs": [],
   "source": []
  },
  {
   "cell_type": "markdown",
   "metadata": {},
   "source": [
    "#### **Task 2**: Is average/median monthly delay different during the year? If yes, which are months with the biggest delays and what could be the reason?"
   ]
  },
  {
   "cell_type": "code",
   "execution_count": 45,
   "metadata": {},
   "outputs": [],
   "source": [
    "import datetime as dt"
   ]
  },
  {
   "cell_type": "code",
   "execution_count": 1532,
   "metadata": {},
   "outputs": [
    {
     "data": {
      "text/html": [
       "<div>\n",
       "<style scoped>\n",
       "    .dataframe tbody tr th:only-of-type {\n",
       "        vertical-align: middle;\n",
       "    }\n",
       "\n",
       "    .dataframe tbody tr th {\n",
       "        vertical-align: top;\n",
       "    }\n",
       "\n",
       "    .dataframe thead th {\n",
       "        text-align: right;\n",
       "    }\n",
       "</style>\n",
       "<table border=\"1\" class=\"dataframe\">\n",
       "  <thead>\n",
       "    <tr style=\"text-align: right;\">\n",
       "      <th></th>\n",
       "      <th>Unnamed: 0</th>\n",
       "      <th>fl_date</th>\n",
       "      <th>arr_delay</th>\n",
       "      <th>flights</th>\n",
       "    </tr>\n",
       "  </thead>\n",
       "  <tbody>\n",
       "    <tr>\n",
       "      <th>0</th>\n",
       "      <td>0</td>\n",
       "      <td>2018-12-05</td>\n",
       "      <td>-9.0</td>\n",
       "      <td>1.0</td>\n",
       "    </tr>\n",
       "    <tr>\n",
       "      <th>1</th>\n",
       "      <td>1</td>\n",
       "      <td>2019-10-30</td>\n",
       "      <td>-16.0</td>\n",
       "      <td>1.0</td>\n",
       "    </tr>\n",
       "    <tr>\n",
       "      <th>2</th>\n",
       "      <td>2</td>\n",
       "      <td>2019-04-14</td>\n",
       "      <td>52.0</td>\n",
       "      <td>1.0</td>\n",
       "    </tr>\n",
       "    <tr>\n",
       "      <th>3</th>\n",
       "      <td>3</td>\n",
       "      <td>2019-03-07</td>\n",
       "      <td>-9.0</td>\n",
       "      <td>1.0</td>\n",
       "    </tr>\n",
       "    <tr>\n",
       "      <th>4</th>\n",
       "      <td>4</td>\n",
       "      <td>2019-09-10</td>\n",
       "      <td>-14.0</td>\n",
       "      <td>1.0</td>\n",
       "    </tr>\n",
       "  </tbody>\n",
       "</table>\n",
       "</div>"
      ],
      "text/plain": [
       "   Unnamed: 0     fl_date  arr_delay  flights\n",
       "0           0  2018-12-05       -9.0      1.0\n",
       "1           1  2019-10-30      -16.0      1.0\n",
       "2           2  2019-04-14       52.0      1.0\n",
       "3           3  2019-03-07       -9.0      1.0\n",
       "4           4  2019-09-10      -14.0      1.0"
      ]
     },
     "execution_count": 1532,
     "metadata": {},
     "output_type": "execute_result"
    }
   ],
   "source": [
    "month_df = pd.read_csv('month_delay.csv', sep=',')\n",
    "month_df.head()"
   ]
  },
  {
   "cell_type": "code",
   "execution_count": 1533,
   "metadata": {},
   "outputs": [],
   "source": [
    "month_df = month_df.drop(columns = 'Unnamed: 0')"
   ]
  },
  {
   "cell_type": "code",
   "execution_count": 1534,
   "metadata": {},
   "outputs": [
    {
     "data": {
      "text/html": [
       "<div>\n",
       "<style scoped>\n",
       "    .dataframe tbody tr th:only-of-type {\n",
       "        vertical-align: middle;\n",
       "    }\n",
       "\n",
       "    .dataframe tbody tr th {\n",
       "        vertical-align: top;\n",
       "    }\n",
       "\n",
       "    .dataframe thead th {\n",
       "        text-align: right;\n",
       "    }\n",
       "</style>\n",
       "<table border=\"1\" class=\"dataframe\">\n",
       "  <thead>\n",
       "    <tr style=\"text-align: right;\">\n",
       "      <th></th>\n",
       "      <th>fl_date</th>\n",
       "      <th>arr_delay</th>\n",
       "      <th>flights</th>\n",
       "    </tr>\n",
       "  </thead>\n",
       "  <tbody>\n",
       "    <tr>\n",
       "      <th>0</th>\n",
       "      <td>2018-12-05</td>\n",
       "      <td>-9.0</td>\n",
       "      <td>1.0</td>\n",
       "    </tr>\n",
       "    <tr>\n",
       "      <th>1</th>\n",
       "      <td>2019-10-30</td>\n",
       "      <td>-16.0</td>\n",
       "      <td>1.0</td>\n",
       "    </tr>\n",
       "    <tr>\n",
       "      <th>2</th>\n",
       "      <td>2019-04-14</td>\n",
       "      <td>52.0</td>\n",
       "      <td>1.0</td>\n",
       "    </tr>\n",
       "    <tr>\n",
       "      <th>3</th>\n",
       "      <td>2019-03-07</td>\n",
       "      <td>-9.0</td>\n",
       "      <td>1.0</td>\n",
       "    </tr>\n",
       "    <tr>\n",
       "      <th>4</th>\n",
       "      <td>2019-09-10</td>\n",
       "      <td>-14.0</td>\n",
       "      <td>1.0</td>\n",
       "    </tr>\n",
       "  </tbody>\n",
       "</table>\n",
       "</div>"
      ],
      "text/plain": [
       "      fl_date  arr_delay  flights\n",
       "0  2018-12-05       -9.0      1.0\n",
       "1  2019-10-30      -16.0      1.0\n",
       "2  2019-04-14       52.0      1.0\n",
       "3  2019-03-07       -9.0      1.0\n",
       "4  2019-09-10      -14.0      1.0"
      ]
     },
     "execution_count": 1534,
     "metadata": {},
     "output_type": "execute_result"
    }
   ],
   "source": [
    "month_df.head(5)"
   ]
  },
  {
   "cell_type": "code",
   "execution_count": 1535,
   "metadata": {},
   "outputs": [],
   "source": [
    "month_df['fl_date'] = pd.to_datetime(month_df['fl_date'])"
   ]
  },
  {
   "cell_type": "code",
   "execution_count": 1536,
   "metadata": {},
   "outputs": [
    {
     "data": {
      "text/plain": [
       "fl_date      datetime64[ns]\n",
       "arr_delay           float64\n",
       "flights             float64\n",
       "dtype: object"
      ]
     },
     "execution_count": 1536,
     "metadata": {},
     "output_type": "execute_result"
    }
   ],
   "source": [
    "month_df.dtypes"
   ]
  },
  {
   "cell_type": "code",
   "execution_count": 1537,
   "metadata": {},
   "outputs": [],
   "source": [
    "month_df['fl_month'] = month_df['fl_date'].dt.month"
   ]
  },
  {
   "cell_type": "code",
   "execution_count": 1538,
   "metadata": {},
   "outputs": [],
   "source": [
    "avg_delay_mth = month_df.groupby('fl_month')['arr_delay'].mean()\n",
    "num_flights_mth = month_df.groupby('fl_month')['flights'].sum()"
   ]
  },
  {
   "cell_type": "markdown",
   "metadata": {},
   "source": [
    "Summer months are busier and seem to have more delays. "
   ]
  },
  {
   "cell_type": "code",
   "execution_count": 1542,
   "metadata": {},
   "outputs": [
    {
     "data": {
      "image/png": "[encoded data removed]",
      "text/plain": [
       "<Figure size 432x288 with 1 Axes>"
      ]
     },
     "metadata": {
      "needs_background": "light"
     },
     "output_type": "display_data"
    },
    {
     "data": {
      "image/png": "[encoded data removed]",
      "text/plain": [
       "<Figure size 432x288 with 1 Axes>"
      ]
     },
     "metadata": {
      "needs_background": "light"
     },
     "output_type": "display_data"
    }
   ],
   "source": [
    "plt.plot(avg_delay_mth.index, avg_delay_mth.values)\n",
    "plt.xlabel('month')\n",
    "plt.ylabel('average delay')\n",
    "plt.title('Average flight delay per month')\n",
    "plt.show()\n",
    "\n",
    "plt.plot(num_flights_mth.index, num_flights_mth.values)\n",
    "plt.xlabel('month')\n",
    "plt.ylabel('Number of flights')\n",
    "plt.title('Number of flights per month')\n",
    "plt.show()"
   ]
  },
  {
   "cell_type": "code",
   "execution_count": 91,
   "metadata": {},
   "outputs": [
    {
     "data": {
      "text/html": [
       "<div>\n",
       "<style scoped>\n",
       "    .dataframe tbody tr th:only-of-type {\n",
       "        vertical-align: middle;\n",
       "    }\n",
       "\n",
       "    .dataframe tbody tr th {\n",
       "        vertical-align: top;\n",
       "    }\n",
       "\n",
       "    .dataframe thead th {\n",
       "        text-align: right;\n",
       "    }\n",
       "</style>\n",
       "<table border=\"1\" class=\"dataframe\">\n",
       "  <thead>\n",
       "    <tr style=\"text-align: right;\">\n",
       "      <th></th>\n",
       "      <th>arr_delay</th>\n",
       "    </tr>\n",
       "    <tr>\n",
       "      <th>fl_month</th>\n",
       "      <th></th>\n",
       "    </tr>\n",
       "  </thead>\n",
       "  <tbody>\n",
       "    <tr>\n",
       "      <th>1</th>\n",
       "      <td>-7.0</td>\n",
       "    </tr>\n",
       "    <tr>\n",
       "      <th>2</th>\n",
       "      <td>-5.0</td>\n",
       "    </tr>\n",
       "    <tr>\n",
       "      <th>3</th>\n",
       "      <td>-6.0</td>\n",
       "    </tr>\n",
       "    <tr>\n",
       "      <th>4</th>\n",
       "      <td>-6.0</td>\n",
       "    </tr>\n",
       "    <tr>\n",
       "      <th>5</th>\n",
       "      <td>-6.0</td>\n",
       "    </tr>\n",
       "    <tr>\n",
       "      <th>6</th>\n",
       "      <td>-5.0</td>\n",
       "    </tr>\n",
       "    <tr>\n",
       "      <th>7</th>\n",
       "      <td>-5.0</td>\n",
       "    </tr>\n",
       "    <tr>\n",
       "      <th>8</th>\n",
       "      <td>-6.0</td>\n",
       "    </tr>\n",
       "    <tr>\n",
       "      <th>9</th>\n",
       "      <td>-8.0</td>\n",
       "    </tr>\n",
       "    <tr>\n",
       "      <th>10</th>\n",
       "      <td>-6.0</td>\n",
       "    </tr>\n",
       "    <tr>\n",
       "      <th>11</th>\n",
       "      <td>-8.0</td>\n",
       "    </tr>\n",
       "    <tr>\n",
       "      <th>12</th>\n",
       "      <td>-7.0</td>\n",
       "    </tr>\n",
       "  </tbody>\n",
       "</table>\n",
       "</div>"
      ],
      "text/plain": [
       "          arr_delay\n",
       "fl_month           \n",
       "1              -7.0\n",
       "2              -5.0\n",
       "3              -6.0\n",
       "4              -6.0\n",
       "5              -6.0\n",
       "6              -5.0\n",
       "7              -5.0\n",
       "8              -6.0\n",
       "9              -8.0\n",
       "10             -6.0\n",
       "11             -8.0\n",
       "12             -7.0"
      ]
     },
     "execution_count": 91,
     "metadata": {},
     "output_type": "execute_result"
    }
   ],
   "source": [
    "month_df.groupby('fl_month').median()"
   ]
  },
  {
   "cell_type": "code",
   "execution_count": 93,
   "metadata": {},
   "outputs": [
    {
     "data": {
      "text/html": [
       "<div>\n",
       "<style scoped>\n",
       "    .dataframe tbody tr th:only-of-type {\n",
       "        vertical-align: middle;\n",
       "    }\n",
       "\n",
       "    .dataframe tbody tr th {\n",
       "        vertical-align: top;\n",
       "    }\n",
       "\n",
       "    .dataframe thead th {\n",
       "        text-align: right;\n",
       "    }\n",
       "</style>\n",
       "<table border=\"1\" class=\"dataframe\">\n",
       "  <thead>\n",
       "    <tr style=\"text-align: right;\">\n",
       "      <th></th>\n",
       "      <th>arr_delay</th>\n",
       "      <th>fl_month</th>\n",
       "    </tr>\n",
       "  </thead>\n",
       "  <tbody>\n",
       "    <tr>\n",
       "      <th>count</th>\n",
       "      <td>9777.000000</td>\n",
       "      <td>10000.000000</td>\n",
       "    </tr>\n",
       "    <tr>\n",
       "      <th>mean</th>\n",
       "      <td>5.561113</td>\n",
       "      <td>6.529200</td>\n",
       "    </tr>\n",
       "    <tr>\n",
       "      <th>std</th>\n",
       "      <td>52.227674</td>\n",
       "      <td>3.409474</td>\n",
       "    </tr>\n",
       "    <tr>\n",
       "      <th>min</th>\n",
       "      <td>-60.000000</td>\n",
       "      <td>1.000000</td>\n",
       "    </tr>\n",
       "    <tr>\n",
       "      <th>25%</th>\n",
       "      <td>-15.000000</td>\n",
       "      <td>4.000000</td>\n",
       "    </tr>\n",
       "    <tr>\n",
       "      <th>50%</th>\n",
       "      <td>-6.000000</td>\n",
       "      <td>7.000000</td>\n",
       "    </tr>\n",
       "    <tr>\n",
       "      <th>75%</th>\n",
       "      <td>7.000000</td>\n",
       "      <td>9.000000</td>\n",
       "    </tr>\n",
       "    <tr>\n",
       "      <th>max</th>\n",
       "      <td>1235.000000</td>\n",
       "      <td>12.000000</td>\n",
       "    </tr>\n",
       "  </tbody>\n",
       "</table>\n",
       "</div>"
      ],
      "text/plain": [
       "         arr_delay      fl_month\n",
       "count  9777.000000  10000.000000\n",
       "mean      5.561113      6.529200\n",
       "std      52.227674      3.409474\n",
       "min     -60.000000      1.000000\n",
       "25%     -15.000000      4.000000\n",
       "50%      -6.000000      7.000000\n",
       "75%       7.000000      9.000000\n",
       "max    1235.000000     12.000000"
      ]
     },
     "execution_count": 93,
     "metadata": {},
     "output_type": "execute_result"
    }
   ],
   "source": [
    "month_df.describe()"
   ]
  },
  {
   "cell_type": "code",
   "execution_count": 92,
   "metadata": {},
   "outputs": [
    {
     "data": {
      "text/plain": [
       "(10000, 3)"
      ]
     },
     "execution_count": 92,
     "metadata": {},
     "output_type": "execute_result"
    }
   ],
   "source": [
    "month_df.shape"
   ]
  },
  {
   "cell_type": "markdown",
   "metadata": {},
   "source": [
    "#### **Task 3**: Does the weather affect the delay? \n",
    "Use the API to pull the weather information for flights. There is no need to get weather for ALL flights. We can choose the right representative sample. Let's focus on four weather types:\n",
    "- sunny\n",
    "- cloudy\n",
    "- rainy\n",
    "- snow.\n",
    "Test the hypothesis that these 4 delays are from the same distribution. If they are not, which ones are significantly different?"
   ]
  },
  {
   "cell_type": "code",
   "execution_count": null,
   "metadata": {},
   "outputs": [],
   "source": []
  },
  {
   "cell_type": "code",
   "execution_count": null,
   "metadata": {},
   "outputs": [],
   "source": []
  },
  {
   "cell_type": "markdown",
   "metadata": {},
   "source": [
    "#### **Task 4**: How are taxi times changing during the day? Does higher traffic lead to bigger taxi times?"
   ]
  },
  {
   "cell_type": "code",
   "execution_count": 163,
   "metadata": {},
   "outputs": [],
   "source": [
    "#sample_df.shape"
   ]
  },
  {
   "cell_type": "code",
   "execution_count": 164,
   "metadata": {},
   "outputs": [],
   "source": [
    "#sample_df['origin_city_name'].unique()"
   ]
  },
  {
   "cell_type": "code",
   "execution_count": 96,
   "metadata": {},
   "outputs": [
    {
     "data": {
      "text/html": [
       "<div>\n",
       "<style scoped>\n",
       "    .dataframe tbody tr th:only-of-type {\n",
       "        vertical-align: middle;\n",
       "    }\n",
       "\n",
       "    .dataframe tbody tr th {\n",
       "        vertical-align: top;\n",
       "    }\n",
       "\n",
       "    .dataframe thead th {\n",
       "        text-align: right;\n",
       "    }\n",
       "</style>\n",
       "<table border=\"1\" class=\"dataframe\">\n",
       "  <thead>\n",
       "    <tr style=\"text-align: right;\">\n",
       "      <th></th>\n",
       "      <th>fl_date</th>\n",
       "      <th>mkt_unique_carrier</th>\n",
       "      <th>branded_code_share</th>\n",
       "      <th>mkt_carrier</th>\n",
       "      <th>mkt_carrier_fl_num</th>\n",
       "      <th>op_unique_carrier</th>\n",
       "      <th>tail_num</th>\n",
       "      <th>op_carrier_fl_num</th>\n",
       "      <th>origin_airport_id</th>\n",
       "      <th>origin</th>\n",
       "      <th>...</th>\n",
       "      <th>distance</th>\n",
       "      <th>carrier_delay</th>\n",
       "      <th>weather_delay</th>\n",
       "      <th>nas_delay</th>\n",
       "      <th>security_delay</th>\n",
       "      <th>late_aircraft_delay</th>\n",
       "      <th>first_dep_time</th>\n",
       "      <th>total_add_gtime</th>\n",
       "      <th>longest_add_gtime</th>\n",
       "      <th>no_name</th>\n",
       "    </tr>\n",
       "  </thead>\n",
       "  <tbody>\n",
       "    <tr>\n",
       "      <th>0</th>\n",
       "      <td>2019-12-07</td>\n",
       "      <td>WN</td>\n",
       "      <td>WN</td>\n",
       "      <td>WN</td>\n",
       "      <td>3263</td>\n",
       "      <td>WN</td>\n",
       "      <td>N211WN</td>\n",
       "      <td>3263</td>\n",
       "      <td>12896</td>\n",
       "      <td>LBB</td>\n",
       "      <td>...</td>\n",
       "      <td>293.0</td>\n",
       "      <td>NaN</td>\n",
       "      <td>NaN</td>\n",
       "      <td>NaN</td>\n",
       "      <td>NaN</td>\n",
       "      <td>NaN</td>\n",
       "      <td>NaN</td>\n",
       "      <td>NaN</td>\n",
       "      <td>NaN</td>\n",
       "      <td>NaN</td>\n",
       "    </tr>\n",
       "    <tr>\n",
       "      <th>1</th>\n",
       "      <td>2019-04-06</td>\n",
       "      <td>AA</td>\n",
       "      <td>AA</td>\n",
       "      <td>AA</td>\n",
       "      <td>2514</td>\n",
       "      <td>AA</td>\n",
       "      <td>N883NN</td>\n",
       "      <td>2514</td>\n",
       "      <td>12478</td>\n",
       "      <td>JFK</td>\n",
       "      <td>...</td>\n",
       "      <td>1521.0</td>\n",
       "      <td>0.0</td>\n",
       "      <td>0.0</td>\n",
       "      <td>45.0</td>\n",
       "      <td>0.0</td>\n",
       "      <td>0.0</td>\n",
       "      <td>NaN</td>\n",
       "      <td>NaN</td>\n",
       "      <td>NaN</td>\n",
       "      <td>NaN</td>\n",
       "    </tr>\n",
       "    <tr>\n",
       "      <th>2</th>\n",
       "      <td>2019-07-12</td>\n",
       "      <td>AS</td>\n",
       "      <td>AS</td>\n",
       "      <td>AS</td>\n",
       "      <td>19</td>\n",
       "      <td>AS</td>\n",
       "      <td>N297AK</td>\n",
       "      <td>19</td>\n",
       "      <td>13204</td>\n",
       "      <td>MCO</td>\n",
       "      <td>...</td>\n",
       "      <td>2554.0</td>\n",
       "      <td>NaN</td>\n",
       "      <td>NaN</td>\n",
       "      <td>NaN</td>\n",
       "      <td>NaN</td>\n",
       "      <td>NaN</td>\n",
       "      <td>NaN</td>\n",
       "      <td>NaN</td>\n",
       "      <td>NaN</td>\n",
       "      <td>NaN</td>\n",
       "    </tr>\n",
       "    <tr>\n",
       "      <th>3</th>\n",
       "      <td>2019-08-23</td>\n",
       "      <td>DL</td>\n",
       "      <td>DL</td>\n",
       "      <td>DL</td>\n",
       "      <td>884</td>\n",
       "      <td>DL</td>\n",
       "      <td>N341DN</td>\n",
       "      <td>884</td>\n",
       "      <td>13487</td>\n",
       "      <td>MSP</td>\n",
       "      <td>...</td>\n",
       "      <td>1532.0</td>\n",
       "      <td>NaN</td>\n",
       "      <td>NaN</td>\n",
       "      <td>NaN</td>\n",
       "      <td>NaN</td>\n",
       "      <td>NaN</td>\n",
       "      <td>NaN</td>\n",
       "      <td>NaN</td>\n",
       "      <td>NaN</td>\n",
       "      <td>NaN</td>\n",
       "    </tr>\n",
       "    <tr>\n",
       "      <th>4</th>\n",
       "      <td>2019-11-26</td>\n",
       "      <td>DL</td>\n",
       "      <td>DL</td>\n",
       "      <td>DL</td>\n",
       "      <td>3057</td>\n",
       "      <td>DL</td>\n",
       "      <td>N123DQ</td>\n",
       "      <td>3057</td>\n",
       "      <td>14908</td>\n",
       "      <td>SNA</td>\n",
       "      <td>...</td>\n",
       "      <td>588.0</td>\n",
       "      <td>NaN</td>\n",
       "      <td>NaN</td>\n",
       "      <td>NaN</td>\n",
       "      <td>NaN</td>\n",
       "      <td>NaN</td>\n",
       "      <td>NaN</td>\n",
       "      <td>NaN</td>\n",
       "      <td>NaN</td>\n",
       "      <td>NaN</td>\n",
       "    </tr>\n",
       "  </tbody>\n",
       "</table>\n",
       "<p>5 rows × 42 columns</p>\n",
       "</div>"
      ],
      "text/plain": [
       "      fl_date mkt_unique_carrier branded_code_share mkt_carrier  \\\n",
       "0  2019-12-07                 WN                 WN          WN   \n",
       "1  2019-04-06                 AA                 AA          AA   \n",
       "2  2019-07-12                 AS                 AS          AS   \n",
       "3  2019-08-23                 DL                 DL          DL   \n",
       "4  2019-11-26                 DL                 DL          DL   \n",
       "\n",
       "   mkt_carrier_fl_num op_unique_carrier tail_num  op_carrier_fl_num  \\\n",
       "0                3263                WN   N211WN               3263   \n",
       "1                2514                AA   N883NN               2514   \n",
       "2                  19                AS   N297AK                 19   \n",
       "3                 884                DL   N341DN                884   \n",
       "4                3057                DL   N123DQ               3057   \n",
       "\n",
       "   origin_airport_id origin  ... distance  carrier_delay weather_delay  \\\n",
       "0              12896    LBB  ...    293.0            NaN           NaN   \n",
       "1              12478    JFK  ...   1521.0            0.0           0.0   \n",
       "2              13204    MCO  ...   2554.0            NaN           NaN   \n",
       "3              13487    MSP  ...   1532.0            NaN           NaN   \n",
       "4              14908    SNA  ...    588.0            NaN           NaN   \n",
       "\n",
       "  nas_delay  security_delay  late_aircraft_delay  first_dep_time  \\\n",
       "0       NaN             NaN                  NaN             NaN   \n",
       "1      45.0             0.0                  0.0             NaN   \n",
       "2       NaN             NaN                  NaN             NaN   \n",
       "3       NaN             NaN                  NaN             NaN   \n",
       "4       NaN             NaN                  NaN             NaN   \n",
       "\n",
       "   total_add_gtime  longest_add_gtime  no_name  \n",
       "0              NaN                NaN      NaN  \n",
       "1              NaN                NaN      NaN  \n",
       "2              NaN                NaN      NaN  \n",
       "3              NaN                NaN      NaN  \n",
       "4              NaN                NaN      NaN  \n",
       "\n",
       "[5 rows x 42 columns]"
      ]
     },
     "execution_count": 96,
     "metadata": {},
     "output_type": "execute_result"
    }
   ],
   "source": [
    "sample_df = pd.read_csv('sample.csv', sep=',')\n",
    "sample_df = sample_df.drop(columns=['Unnamed: 0'])\n",
    "sample_df.head()"
   ]
  },
  {
   "cell_type": "code",
   "execution_count": 1543,
   "metadata": {},
   "outputs": [],
   "source": [
    "sample_df['fl_date'] = pd.to_datetime(sample_df['fl_date'])"
   ]
  },
  {
   "cell_type": "code",
   "execution_count": 1544,
   "metadata": {},
   "outputs": [],
   "source": [
    "#sample_df.dtypes"
   ]
  },
  {
   "cell_type": "code",
   "execution_count": 1545,
   "metadata": {},
   "outputs": [
    {
     "data": {
      "text/html": [
       "<div>\n",
       "<style scoped>\n",
       "    .dataframe tbody tr th:only-of-type {\n",
       "        vertical-align: middle;\n",
       "    }\n",
       "\n",
       "    .dataframe tbody tr th {\n",
       "        vertical-align: top;\n",
       "    }\n",
       "\n",
       "    .dataframe thead th {\n",
       "        text-align: right;\n",
       "    }\n",
       "</style>\n",
       "<table border=\"1\" class=\"dataframe\">\n",
       "  <thead>\n",
       "    <tr style=\"text-align: right;\">\n",
       "      <th></th>\n",
       "      <th>fl_date</th>\n",
       "      <th>crs_dep_time</th>\n",
       "      <th>dep_time</th>\n",
       "      <th>taxi_out</th>\n",
       "      <th>taxi_in</th>\n",
       "      <th>crs_arr_time</th>\n",
       "      <th>arr_time</th>\n",
       "      <th>flights</th>\n",
       "    </tr>\n",
       "  </thead>\n",
       "  <tbody>\n",
       "    <tr>\n",
       "      <th>9803</th>\n",
       "      <td>2018-01-01</td>\n",
       "      <td>548</td>\n",
       "      <td>541.0</td>\n",
       "      <td>10.0</td>\n",
       "      <td>10.0</td>\n",
       "      <td>940</td>\n",
       "      <td>912.0</td>\n",
       "      <td>1.0</td>\n",
       "    </tr>\n",
       "    <tr>\n",
       "      <th>571</th>\n",
       "      <td>2018-01-01</td>\n",
       "      <td>705</td>\n",
       "      <td>711.0</td>\n",
       "      <td>9.0</td>\n",
       "      <td>4.0</td>\n",
       "      <td>846</td>\n",
       "      <td>835.0</td>\n",
       "      <td>1.0</td>\n",
       "    </tr>\n",
       "    <tr>\n",
       "      <th>6185</th>\n",
       "      <td>2018-01-01</td>\n",
       "      <td>935</td>\n",
       "      <td>944.0</td>\n",
       "      <td>14.0</td>\n",
       "      <td>5.0</td>\n",
       "      <td>1155</td>\n",
       "      <td>1205.0</td>\n",
       "      <td>1.0</td>\n",
       "    </tr>\n",
       "    <tr>\n",
       "      <th>7016</th>\n",
       "      <td>2018-01-01</td>\n",
       "      <td>830</td>\n",
       "      <td>946.0</td>\n",
       "      <td>8.0</td>\n",
       "      <td>5.0</td>\n",
       "      <td>1145</td>\n",
       "      <td>1259.0</td>\n",
       "      <td>1.0</td>\n",
       "    </tr>\n",
       "    <tr>\n",
       "      <th>4826</th>\n",
       "      <td>2018-01-01</td>\n",
       "      <td>1012</td>\n",
       "      <td>1017.0</td>\n",
       "      <td>18.0</td>\n",
       "      <td>7.0</td>\n",
       "      <td>1313</td>\n",
       "      <td>1307.0</td>\n",
       "      <td>1.0</td>\n",
       "    </tr>\n",
       "  </tbody>\n",
       "</table>\n",
       "</div>"
      ],
      "text/plain": [
       "        fl_date  crs_dep_time  dep_time  taxi_out  taxi_in  crs_arr_time  \\\n",
       "9803 2018-01-01           548     541.0      10.0     10.0           940   \n",
       "571  2018-01-01           705     711.0       9.0      4.0           846   \n",
       "6185 2018-01-01           935     944.0      14.0      5.0          1155   \n",
       "7016 2018-01-01           830     946.0       8.0      5.0          1145   \n",
       "4826 2018-01-01          1012    1017.0      18.0      7.0          1313   \n",
       "\n",
       "      arr_time  flights  \n",
       "9803     912.0      1.0  \n",
       "571      835.0      1.0  \n",
       "6185    1205.0      1.0  \n",
       "7016    1259.0      1.0  \n",
       "4826    1307.0      1.0  "
      ]
     },
     "execution_count": 1545,
     "metadata": {},
     "output_type": "execute_result"
    }
   ],
   "source": [
    "taxi_df = sample_df[['fl_date', 'crs_dep_time', 'dep_time', 'taxi_out', 'taxi_in', 'crs_arr_time', 'arr_time', 'flights']]\n",
    "taxi_df = taxi_df.sort_values(['fl_date', 'dep_time'])\n",
    "taxi_df.head()"
   ]
  },
  {
   "cell_type": "code",
   "execution_count": 343,
   "metadata": {},
   "outputs": [
    {
     "data": {
      "text/plain": [
       "fl_date          object\n",
       "crs_dep_time      int64\n",
       "dep_time        float64\n",
       "taxi_out        float64\n",
       "taxi_in         float64\n",
       "crs_arr_time      int64\n",
       "arr_time        float64\n",
       "flights         float64\n",
       "dtype: object"
      ]
     },
     "execution_count": 343,
     "metadata": {},
     "output_type": "execute_result"
    }
   ],
   "source": [
    "taxi_df.dtypes"
   ]
  },
  {
   "cell_type": "code",
   "execution_count": 106,
   "metadata": {},
   "outputs": [
    {
     "data": {
      "text/plain": [
       "<AxesSubplot:xlabel='dep_time', ylabel='taxi_out'>"
      ]
     },
     "execution_count": 106,
     "metadata": {},
     "output_type": "execute_result"
    },
    {
     "data": {
      "image/png": "[encoded data removed]",
      "text/plain": [
       "<Figure size 432x288 with 1 Axes>"
      ]
     },
     "metadata": {
      "needs_background": "light"
     },
     "output_type": "display_data"
    }
   ],
   "source": [
    "sns.scatterplot(x='dep_time', y='taxi_out', data=taxi_df)"
   ]
  },
  {
   "cell_type": "code",
   "execution_count": 107,
   "metadata": {},
   "outputs": [
    {
     "data": {
      "text/plain": [
       "<AxesSubplot:xlabel='arr_time', ylabel='taxi_in'>"
      ]
     },
     "execution_count": 107,
     "metadata": {},
     "output_type": "execute_result"
    },
    {
     "data": {
      "image/png": "[encoded data removed]",
      "text/plain": [
       "<Figure size 432x288 with 1 Axes>"
      ]
     },
     "metadata": {
      "needs_background": "light"
     },
     "output_type": "display_data"
    }
   ],
   "source": [
    "sns.scatterplot(x='arr_time', y='taxi_in', data=taxi_df)"
   ]
  },
  {
   "cell_type": "code",
   "execution_count": null,
   "metadata": {},
   "outputs": [],
   "source": [
    "# do sum of flights per hour relative to mean of taxi_in per hour"
   ]
  },
  {
   "cell_type": "code",
   "execution_count": 128,
   "metadata": {},
   "outputs": [],
   "source": [
    "mean_taxi_out = taxi_df.groupby(taxi_df['dep_time']//100 * 100)['taxi_out'].mean()\n",
    "mean_taxi_in = taxi_df.groupby(taxi_df['arr_time']//100 * 100)['taxi_in'].mean()\n",
    "flights_per_hour = taxi_df.groupby(taxi_df['dep_time']//100 * 100)['flights'].sum()"
   ]
  },
  {
   "cell_type": "code",
   "execution_count": 129,
   "metadata": {},
   "outputs": [
    {
     "data": {
      "text/plain": [
       "pandas.core.series.Series"
      ]
     },
     "execution_count": 129,
     "metadata": {},
     "output_type": "execute_result"
    }
   ],
   "source": [
    "type(flights_per_hour)"
   ]
  },
  {
   "cell_type": "code",
   "execution_count": 130,
   "metadata": {},
   "outputs": [
    {
     "data": {
      "text/html": [
       "<div>\n",
       "<style scoped>\n",
       "    .dataframe tbody tr th:only-of-type {\n",
       "        vertical-align: middle;\n",
       "    }\n",
       "\n",
       "    .dataframe tbody tr th {\n",
       "        vertical-align: top;\n",
       "    }\n",
       "\n",
       "    .dataframe thead th {\n",
       "        text-align: right;\n",
       "    }\n",
       "</style>\n",
       "<table border=\"1\" class=\"dataframe\">\n",
       "  <thead>\n",
       "    <tr style=\"text-align: right;\">\n",
       "      <th></th>\n",
       "      <th>taxi_out</th>\n",
       "      <th>taxi_in</th>\n",
       "      <th>Flights</th>\n",
       "    </tr>\n",
       "  </thead>\n",
       "  <tbody>\n",
       "    <tr>\n",
       "      <th>0.0</th>\n",
       "      <td>15.950000</td>\n",
       "      <td>6.795812</td>\n",
       "      <td>40.0</td>\n",
       "    </tr>\n",
       "    <tr>\n",
       "      <th>100.0</th>\n",
       "      <td>14.533333</td>\n",
       "      <td>6.984615</td>\n",
       "      <td>15.0</td>\n",
       "    </tr>\n",
       "    <tr>\n",
       "      <th>200.0</th>\n",
       "      <td>11.750000</td>\n",
       "      <td>5.000000</td>\n",
       "      <td>4.0</td>\n",
       "    </tr>\n",
       "    <tr>\n",
       "      <th>300.0</th>\n",
       "      <td>10.500000</td>\n",
       "      <td>8.555556</td>\n",
       "      <td>2.0</td>\n",
       "    </tr>\n",
       "    <tr>\n",
       "      <th>400.0</th>\n",
       "      <td>16.000000</td>\n",
       "      <td>7.111111</td>\n",
       "      <td>31.0</td>\n",
       "    </tr>\n",
       "    <tr>\n",
       "      <th>500.0</th>\n",
       "      <td>15.421918</td>\n",
       "      <td>6.666667</td>\n",
       "      <td>366.0</td>\n",
       "    </tr>\n",
       "    <tr>\n",
       "      <th>600.0</th>\n",
       "      <td>16.414944</td>\n",
       "      <td>8.055556</td>\n",
       "      <td>629.0</td>\n",
       "    </tr>\n",
       "    <tr>\n",
       "      <th>700.0</th>\n",
       "      <td>18.291312</td>\n",
       "      <td>7.972900</td>\n",
       "      <td>587.0</td>\n",
       "    </tr>\n",
       "    <tr>\n",
       "      <th>800.0</th>\n",
       "      <td>19.198569</td>\n",
       "      <td>8.557734</td>\n",
       "      <td>559.0</td>\n",
       "    </tr>\n",
       "    <tr>\n",
       "      <th>900.0</th>\n",
       "      <td>18.633391</td>\n",
       "      <td>8.677064</td>\n",
       "      <td>581.0</td>\n",
       "    </tr>\n",
       "    <tr>\n",
       "      <th>1000.0</th>\n",
       "      <td>17.959184</td>\n",
       "      <td>8.109029</td>\n",
       "      <td>588.0</td>\n",
       "    </tr>\n",
       "    <tr>\n",
       "      <th>1100.0</th>\n",
       "      <td>17.117555</td>\n",
       "      <td>6.877005</td>\n",
       "      <td>639.0</td>\n",
       "    </tr>\n",
       "    <tr>\n",
       "      <th>1200.0</th>\n",
       "      <td>16.892473</td>\n",
       "      <td>7.517529</td>\n",
       "      <td>651.0</td>\n",
       "    </tr>\n",
       "    <tr>\n",
       "      <th>1300.0</th>\n",
       "      <td>17.094796</td>\n",
       "      <td>7.230366</td>\n",
       "      <td>539.0</td>\n",
       "    </tr>\n",
       "    <tr>\n",
       "      <th>1400.0</th>\n",
       "      <td>17.134583</td>\n",
       "      <td>6.981293</td>\n",
       "      <td>587.0</td>\n",
       "    </tr>\n",
       "    <tr>\n",
       "      <th>1500.0</th>\n",
       "      <td>16.930860</td>\n",
       "      <td>7.389831</td>\n",
       "      <td>593.0</td>\n",
       "    </tr>\n",
       "    <tr>\n",
       "      <th>1600.0</th>\n",
       "      <td>17.958692</td>\n",
       "      <td>7.140351</td>\n",
       "      <td>583.0</td>\n",
       "    </tr>\n",
       "    <tr>\n",
       "      <th>1700.0</th>\n",
       "      <td>18.479132</td>\n",
       "      <td>7.675862</td>\n",
       "      <td>601.0</td>\n",
       "    </tr>\n",
       "    <tr>\n",
       "      <th>1800.0</th>\n",
       "      <td>18.076923</td>\n",
       "      <td>7.554098</td>\n",
       "      <td>546.0</td>\n",
       "    </tr>\n",
       "    <tr>\n",
       "      <th>1900.0</th>\n",
       "      <td>17.569343</td>\n",
       "      <td>8.257092</td>\n",
       "      <td>548.0</td>\n",
       "    </tr>\n",
       "    <tr>\n",
       "      <th>2000.0</th>\n",
       "      <td>17.727074</td>\n",
       "      <td>8.728814</td>\n",
       "      <td>459.0</td>\n",
       "    </tr>\n",
       "    <tr>\n",
       "      <th>2100.0</th>\n",
       "      <td>17.414239</td>\n",
       "      <td>7.572695</td>\n",
       "      <td>310.0</td>\n",
       "    </tr>\n",
       "    <tr>\n",
       "      <th>2200.0</th>\n",
       "      <td>17.616197</td>\n",
       "      <td>7.498845</td>\n",
       "      <td>284.0</td>\n",
       "    </tr>\n",
       "    <tr>\n",
       "      <th>2300.0</th>\n",
       "      <td>17.959184</td>\n",
       "      <td>6.980861</td>\n",
       "      <td>98.0</td>\n",
       "    </tr>\n",
       "    <tr>\n",
       "      <th>2400.0</th>\n",
       "      <td>15.000000</td>\n",
       "      <td>4.666667</td>\n",
       "      <td>2.0</td>\n",
       "    </tr>\n",
       "  </tbody>\n",
       "</table>\n",
       "</div>"
      ],
      "text/plain": [
       "         taxi_out   taxi_in  Flights\n",
       "0.0     15.950000  6.795812     40.0\n",
       "100.0   14.533333  6.984615     15.0\n",
       "200.0   11.750000  5.000000      4.0\n",
       "300.0   10.500000  8.555556      2.0\n",
       "400.0   16.000000  7.111111     31.0\n",
       "500.0   15.421918  6.666667    366.0\n",
       "600.0   16.414944  8.055556    629.0\n",
       "700.0   18.291312  7.972900    587.0\n",
       "800.0   19.198569  8.557734    559.0\n",
       "900.0   18.633391  8.677064    581.0\n",
       "1000.0  17.959184  8.109029    588.0\n",
       "1100.0  17.117555  6.877005    639.0\n",
       "1200.0  16.892473  7.517529    651.0\n",
       "1300.0  17.094796  7.230366    539.0\n",
       "1400.0  17.134583  6.981293    587.0\n",
       "1500.0  16.930860  7.389831    593.0\n",
       "1600.0  17.958692  7.140351    583.0\n",
       "1700.0  18.479132  7.675862    601.0\n",
       "1800.0  18.076923  7.554098    546.0\n",
       "1900.0  17.569343  8.257092    548.0\n",
       "2000.0  17.727074  8.728814    459.0\n",
       "2100.0  17.414239  7.572695    310.0\n",
       "2200.0  17.616197  7.498845    284.0\n",
       "2300.0  17.959184  6.980861     98.0\n",
       "2400.0  15.000000  4.666667      2.0"
      ]
     },
     "execution_count": 130,
     "metadata": {},
     "output_type": "execute_result"
    }
   ],
   "source": [
    "df_agg = pd.DataFrame({'taxi_out': mean_taxi_out, 'taxi_in': mean_taxi_in, 'Flights': flights_per_hour})\n",
    "df_agg"
   ]
  },
  {
   "cell_type": "code",
   "execution_count": 154,
   "metadata": {},
   "outputs": [
    {
     "data": {
      "text/plain": [
       "Text(0, 0.5, 'Number of Flights')"
      ]
     },
     "execution_count": 154,
     "metadata": {},
     "output_type": "execute_result"
    },
    {
     "data": {
      "image/png": "[encoded data removed]",
      "text/plain": [
       "<Figure size 576x288 with 1 Axes>"
      ]
     },
     "metadata": {
      "needs_background": "light"
     },
     "output_type": "display_data"
    },
    {
     "data": {
      "image/png": "[encoded data removed]",
      "text/plain": [
       "<Figure size 576x288 with 1 Axes>"
      ]
     },
     "metadata": {
      "needs_background": "light"
     },
     "output_type": "display_data"
    }
   ],
   "source": [
    "fix, ax = plt.subplots(figsize=(8,4))\n",
    "ax.plot(df_agg.index, df_agg['taxi_out'], label='taxi_out')\n",
    "ax.plot(df_agg.index, df_agg['taxi_in'], label='taxi_in')\n",
    "ax.legend(loc='best')\n",
    "ax.set_title('Taxi times per hour')\n",
    "ax.set_xlabel('Hour')\n",
    "ax.set_ylabel('Time (minutes)')\n",
    "fix, ax = plt.subplots(figsize=(8,4))\n",
    "ax.plot(df_agg.index, df_agg['Flights'], label='flights')\n",
    "ax.legend(loc='best')\n",
    "ax.set_title('Flights per hour')\n",
    "ax.set_xlabel('Hour')\n",
    "ax.set_ylabel('Number of Flights')"
   ]
  },
  {
   "cell_type": "code",
   "execution_count": null,
   "metadata": {},
   "outputs": [],
   "source": []
  },
  {
   "cell_type": "markdown",
   "metadata": {},
   "source": [
    "#### **Task 5**: What is the average percentage of delays that is already created before departure? (aka are arrival delays caused by departure delays?) Are airlines able to lower the delay during the flights?"
   ]
  },
  {
   "cell_type": "code",
   "execution_count": 1546,
   "metadata": {},
   "outputs": [],
   "source": [
    "delays = sample_df[['fl_date', 'crs_dep_time', 'dep_time', 'dep_delay', 'arr_delay', 'actual_elapsed_time', 'crs_arr_time', 'arr_time']]\n",
    "delays = delays.copy()"
   ]
  },
  {
   "cell_type": "code",
   "execution_count": 1547,
   "metadata": {},
   "outputs": [],
   "source": [
    "delays = delays.dropna()"
   ]
  },
  {
   "cell_type": "code",
   "execution_count": 1394,
   "metadata": {},
   "outputs": [],
   "source": [
    "#delays = delays.loc[~(delays==0).all(axis=1)]"
   ]
  },
  {
   "cell_type": "code",
   "execution_count": 1549,
   "metadata": {},
   "outputs": [],
   "source": [
    "del1 = delays[['fl_date', 'dep_delay', 'arr_delay']]"
   ]
  },
  {
   "cell_type": "code",
   "execution_count": 1552,
   "metadata": {},
   "outputs": [
    {
     "data": {
      "text/plain": [
       "34.26445101437455"
      ]
     },
     "execution_count": 1552,
     "metadata": {},
     "output_type": "execute_result"
    }
   ],
   "source": [
    "dep_delayed = del1[del1['dep_delay']>0].shape[0]\n",
    "total = del1.shape[0]\n",
    "percent_delayed_dep = dep_delayed/total * 100\n",
    "percent_delayed_dep"
   ]
  },
  {
   "cell_type": "code",
   "execution_count": 1553,
   "metadata": {},
   "outputs": [
    {
     "data": {
      "text/plain": [
       "34.927107758181265"
      ]
     },
     "execution_count": 1553,
     "metadata": {},
     "output_type": "execute_result"
    }
   ],
   "source": [
    "arr_delayed = del1[del1['arr_delay']>0].shape[0]\n",
    "total = del1.shape[0]\n",
    "percent_delayed_arr = arr_delayed/total * 100\n",
    "percent_delayed_arr"
   ]
  },
  {
   "cell_type": "code",
   "execution_count": null,
   "metadata": {},
   "outputs": [],
   "source": []
  },
  {
   "cell_type": "code",
   "execution_count": 1395,
   "metadata": {},
   "outputs": [],
   "source": [
    "delays.fl_date = delays.fl_date.astype(str)"
   ]
  },
  {
   "cell_type": "code",
   "execution_count": 1396,
   "metadata": {},
   "outputs": [
    {
     "data": {
      "text/plain": [
       "fl_date                 object\n",
       "crs_dep_time             int64\n",
       "dep_time               float64\n",
       "actual_elapsed_time    float64\n",
       "crs_arr_time             int64\n",
       "arr_time               float64\n",
       "dtype: object"
      ]
     },
     "execution_count": 1396,
     "metadata": {},
     "output_type": "execute_result"
    }
   ],
   "source": [
    "delays.dtypes"
   ]
  },
  {
   "cell_type": "code",
   "execution_count": 1397,
   "metadata": {},
   "outputs": [
    {
     "data": {
      "text/html": [
       "<div>\n",
       "<style scoped>\n",
       "    .dataframe tbody tr th:only-of-type {\n",
       "        vertical-align: middle;\n",
       "    }\n",
       "\n",
       "    .dataframe tbody tr th {\n",
       "        vertical-align: top;\n",
       "    }\n",
       "\n",
       "    .dataframe thead th {\n",
       "        text-align: right;\n",
       "    }\n",
       "</style>\n",
       "<table border=\"1\" class=\"dataframe\">\n",
       "  <thead>\n",
       "    <tr style=\"text-align: right;\">\n",
       "      <th></th>\n",
       "      <th>fl_date</th>\n",
       "      <th>crs_dep_time</th>\n",
       "      <th>dep_time</th>\n",
       "      <th>actual_elapsed_time</th>\n",
       "      <th>crs_arr_time</th>\n",
       "      <th>arr_time</th>\n",
       "    </tr>\n",
       "  </thead>\n",
       "  <tbody>\n",
       "    <tr>\n",
       "      <th>0</th>\n",
       "      <td>2019-12-07</td>\n",
       "      <td>1550</td>\n",
       "      <td>1545.0</td>\n",
       "      <td>63.0</td>\n",
       "      <td>1655</td>\n",
       "      <td>1648.0</td>\n",
       "    </tr>\n",
       "    <tr>\n",
       "      <th>1</th>\n",
       "      <td>2019-04-06</td>\n",
       "      <td>835</td>\n",
       "      <td>829.0</td>\n",
       "      <td>309.0</td>\n",
       "      <td>1153</td>\n",
       "      <td>1238.0</td>\n",
       "    </tr>\n",
       "    <tr>\n",
       "      <th>2</th>\n",
       "      <td>2019-07-12</td>\n",
       "      <td>1925</td>\n",
       "      <td>1918.0</td>\n",
       "      <td>370.0</td>\n",
       "      <td>2235</td>\n",
       "      <td>2228.0</td>\n",
       "    </tr>\n",
       "    <tr>\n",
       "      <th>3</th>\n",
       "      <td>2019-08-23</td>\n",
       "      <td>1802</td>\n",
       "      <td>1821.0</td>\n",
       "      <td>215.0</td>\n",
       "      <td>1948</td>\n",
       "      <td>1956.0</td>\n",
       "    </tr>\n",
       "    <tr>\n",
       "      <th>4</th>\n",
       "      <td>2019-11-26</td>\n",
       "      <td>1315</td>\n",
       "      <td>1312.0</td>\n",
       "      <td>110.0</td>\n",
       "      <td>1603</td>\n",
       "      <td>1602.0</td>\n",
       "    </tr>\n",
       "  </tbody>\n",
       "</table>\n",
       "</div>"
      ],
      "text/plain": [
       "      fl_date  crs_dep_time  dep_time  actual_elapsed_time  crs_arr_time  \\\n",
       "0  2019-12-07          1550    1545.0                 63.0          1655   \n",
       "1  2019-04-06           835     829.0                309.0          1153   \n",
       "2  2019-07-12          1925    1918.0                370.0          2235   \n",
       "3  2019-08-23          1802    1821.0                215.0          1948   \n",
       "4  2019-11-26          1315    1312.0                110.0          1603   \n",
       "\n",
       "   arr_time  \n",
       "0    1648.0  \n",
       "1    1238.0  \n",
       "2    2228.0  \n",
       "3    1956.0  \n",
       "4    1602.0  "
      ]
     },
     "execution_count": 1397,
     "metadata": {},
     "output_type": "execute_result"
    }
   ],
   "source": [
    "delays.head()"
   ]
  },
  {
   "cell_type": "code",
   "execution_count": 1398,
   "metadata": {},
   "outputs": [],
   "source": [
    "delays = delays.dropna()"
   ]
  },
  {
   "cell_type": "code",
   "execution_count": 1399,
   "metadata": {},
   "outputs": [],
   "source": [
    "delays['dep_time'] = delays['dep_time'].astype(int)\n",
    "delays['arr_time'] = delays['arr_time'].astype(int)"
   ]
  },
  {
   "cell_type": "code",
   "execution_count": 1400,
   "metadata": {},
   "outputs": [],
   "source": [
    "delays['crs_dep_time'] = delays['crs_dep_time'].astype(str)\n",
    "delays['crs_arr_time'] = delays['crs_arr_time'].astype(str)\n",
    "delays['dep_time'] = delays['dep_time'].astype(str)\n",
    "delays['arr_time'] = delays['arr_time'].astype(str)"
   ]
  },
  {
   "cell_type": "code",
   "execution_count": 1401,
   "metadata": {},
   "outputs": [
    {
     "data": {
      "text/plain": [
       "fl_date                 object\n",
       "crs_dep_time            object\n",
       "dep_time                object\n",
       "actual_elapsed_time    float64\n",
       "crs_arr_time            object\n",
       "arr_time                object\n",
       "dtype: object"
      ]
     },
     "execution_count": 1401,
     "metadata": {},
     "output_type": "execute_result"
    }
   ],
   "source": [
    "delays.dtypes"
   ]
  },
  {
   "cell_type": "code",
   "execution_count": 1402,
   "metadata": {},
   "outputs": [],
   "source": [
    "delays['crs_dep_time'] = delays['crs_dep_time'].apply(lambda x: str(x).zfill(4))\n",
    "delays['crs_arr_time'] = delays['crs_arr_time'].apply(lambda x: str(x).zfill(4))\n",
    "delays['dep_time'] = delays['dep_time'].apply(lambda x: str(x).zfill(4))\n",
    "delays['arr_time'] = delays['arr_time'].apply(lambda x: str(x).zfill(4))"
   ]
  },
  {
   "cell_type": "code",
   "execution_count": 1403,
   "metadata": {},
   "outputs": [
    {
     "data": {
      "text/html": [
       "<div>\n",
       "<style scoped>\n",
       "    .dataframe tbody tr th:only-of-type {\n",
       "        vertical-align: middle;\n",
       "    }\n",
       "\n",
       "    .dataframe tbody tr th {\n",
       "        vertical-align: top;\n",
       "    }\n",
       "\n",
       "    .dataframe thead th {\n",
       "        text-align: right;\n",
       "    }\n",
       "</style>\n",
       "<table border=\"1\" class=\"dataframe\">\n",
       "  <thead>\n",
       "    <tr style=\"text-align: right;\">\n",
       "      <th></th>\n",
       "      <th>fl_date</th>\n",
       "      <th>crs_dep_time</th>\n",
       "      <th>dep_time</th>\n",
       "      <th>actual_elapsed_time</th>\n",
       "      <th>crs_arr_time</th>\n",
       "      <th>arr_time</th>\n",
       "    </tr>\n",
       "  </thead>\n",
       "  <tbody>\n",
       "    <tr>\n",
       "      <th>0</th>\n",
       "      <td>2019-12-07</td>\n",
       "      <td>1550</td>\n",
       "      <td>1545</td>\n",
       "      <td>63.0</td>\n",
       "      <td>1655</td>\n",
       "      <td>1648</td>\n",
       "    </tr>\n",
       "    <tr>\n",
       "      <th>1</th>\n",
       "      <td>2019-04-06</td>\n",
       "      <td>0835</td>\n",
       "      <td>0829</td>\n",
       "      <td>309.0</td>\n",
       "      <td>1153</td>\n",
       "      <td>1238</td>\n",
       "    </tr>\n",
       "    <tr>\n",
       "      <th>2</th>\n",
       "      <td>2019-07-12</td>\n",
       "      <td>1925</td>\n",
       "      <td>1918</td>\n",
       "      <td>370.0</td>\n",
       "      <td>2235</td>\n",
       "      <td>2228</td>\n",
       "    </tr>\n",
       "    <tr>\n",
       "      <th>3</th>\n",
       "      <td>2019-08-23</td>\n",
       "      <td>1802</td>\n",
       "      <td>1821</td>\n",
       "      <td>215.0</td>\n",
       "      <td>1948</td>\n",
       "      <td>1956</td>\n",
       "    </tr>\n",
       "    <tr>\n",
       "      <th>4</th>\n",
       "      <td>2019-11-26</td>\n",
       "      <td>1315</td>\n",
       "      <td>1312</td>\n",
       "      <td>110.0</td>\n",
       "      <td>1603</td>\n",
       "      <td>1602</td>\n",
       "    </tr>\n",
       "    <tr>\n",
       "      <th>...</th>\n",
       "      <td>...</td>\n",
       "      <td>...</td>\n",
       "      <td>...</td>\n",
       "      <td>...</td>\n",
       "      <td>...</td>\n",
       "      <td>...</td>\n",
       "    </tr>\n",
       "    <tr>\n",
       "      <th>9995</th>\n",
       "      <td>2018-10-31</td>\n",
       "      <td>1645</td>\n",
       "      <td>2016</td>\n",
       "      <td>99.0</td>\n",
       "      <td>1826</td>\n",
       "      <td>2155</td>\n",
       "    </tr>\n",
       "    <tr>\n",
       "      <th>9996</th>\n",
       "      <td>2019-07-14</td>\n",
       "      <td>0805</td>\n",
       "      <td>0800</td>\n",
       "      <td>78.0</td>\n",
       "      <td>0930</td>\n",
       "      <td>0918</td>\n",
       "    </tr>\n",
       "    <tr>\n",
       "      <th>9997</th>\n",
       "      <td>2019-10-09</td>\n",
       "      <td>1650</td>\n",
       "      <td>1646</td>\n",
       "      <td>139.0</td>\n",
       "      <td>1846</td>\n",
       "      <td>1805</td>\n",
       "    </tr>\n",
       "    <tr>\n",
       "      <th>9998</th>\n",
       "      <td>2019-09-04</td>\n",
       "      <td>1855</td>\n",
       "      <td>1856</td>\n",
       "      <td>222.0</td>\n",
       "      <td>0040</td>\n",
       "      <td>0038</td>\n",
       "    </tr>\n",
       "    <tr>\n",
       "      <th>9999</th>\n",
       "      <td>2018-10-31</td>\n",
       "      <td>1119</td>\n",
       "      <td>1113</td>\n",
       "      <td>46.0</td>\n",
       "      <td>1155</td>\n",
       "      <td>1159</td>\n",
       "    </tr>\n",
       "  </tbody>\n",
       "</table>\n",
       "<p>9815 rows × 6 columns</p>\n",
       "</div>"
      ],
      "text/plain": [
       "         fl_date crs_dep_time dep_time  actual_elapsed_time crs_arr_time  \\\n",
       "0     2019-12-07         1550     1545                 63.0         1655   \n",
       "1     2019-04-06         0835     0829                309.0         1153   \n",
       "2     2019-07-12         1925     1918                370.0         2235   \n",
       "3     2019-08-23         1802     1821                215.0         1948   \n",
       "4     2019-11-26         1315     1312                110.0         1603   \n",
       "...          ...          ...      ...                  ...          ...   \n",
       "9995  2018-10-31         1645     2016                 99.0         1826   \n",
       "9996  2019-07-14         0805     0800                 78.0         0930   \n",
       "9997  2019-10-09         1650     1646                139.0         1846   \n",
       "9998  2019-09-04         1855     1856                222.0         0040   \n",
       "9999  2018-10-31         1119     1113                 46.0         1155   \n",
       "\n",
       "     arr_time  \n",
       "0        1648  \n",
       "1        1238  \n",
       "2        2228  \n",
       "3        1956  \n",
       "4        1602  \n",
       "...       ...  \n",
       "9995     2155  \n",
       "9996     0918  \n",
       "9997     1805  \n",
       "9998     0038  \n",
       "9999     1159  \n",
       "\n",
       "[9815 rows x 6 columns]"
      ]
     },
     "execution_count": 1403,
     "metadata": {},
     "output_type": "execute_result"
    }
   ],
   "source": [
    "delays"
   ]
  },
  {
   "cell_type": "code",
   "execution_count": 1404,
   "metadata": {},
   "outputs": [],
   "source": [
    "delays['dep_time_h'] = delays['dep_time'].str[0:2]\n",
    "delays['dep_time_m'] = delays['dep_time'].str[2:]\n",
    "delays['dep_time_h'] = delays['dep_time_h'].replace('24', '00')\n",
    "\n",
    "delays['arr_time_h'] = delays['arr_time'].str[0:2]\n",
    "delays['arr_time_m'] = delays['arr_time'].str[2:]\n",
    "delays['arr_time_h'] = delays['arr_time_h'].replace('24', '00')\n",
    "\n",
    "delays['crs_dep_time_h'] = delays['crs_dep_time'].str[0:2]\n",
    "delays['crs_dep_time_m'] = delays['crs_dep_time'].str[2:]\n",
    "delays['crs_dep_time_h'] = delays['crs_dep_time_h'].replace('24', '00')\n",
    "\n",
    "delays['crs_arr_time_h'] = delays['crs_arr_time'].str[0:2]\n",
    "delays['crs_arr_time_m'] = delays['crs_arr_time'].str[2:]\n",
    "delays['crs_arr_time_h'] = delays['crs_arr_time_h'].replace('24', '00')\n",
    "\n",
    "delays['dep_time'] = delays['dep_time_h']+delays['dep_time_m']\n",
    "delays['arr_time'] = delays['arr_time_h']+delays['arr_time_m']\n",
    "delays['crs_dep_time'] = delays['crs_dep_time_h']+delays['crs_dep_time_m']\n",
    "delays['crs_arr_time'] = delays['crs_arr_time_h']+delays['crs_arr_time_m']"
   ]
  },
  {
   "cell_type": "code",
   "execution_count": 1405,
   "metadata": {},
   "outputs": [],
   "source": [
    "#delays.drop(columns = ['dep_time_h', 'dep_time_m', 'arr_time_h', 'arr_time_m'])"
   ]
  },
  {
   "cell_type": "code",
   "execution_count": 1406,
   "metadata": {},
   "outputs": [],
   "source": [
    "delays['crs_dep_time_hour'] = delays['crs_dep_time'].apply(lambda x: dt.datetime.strptime(str(x),  '%H%M').hour)\n",
    "delays['crs_dep_time_min'] = delays['crs_dep_time'].apply(lambda x: dt.datetime.strptime(str(x),  '%H%M').minute)\n",
    "delays['crs_arr_time_hour'] = delays['crs_arr_time'].apply(lambda x: dt.datetime.strptime(str(x),  '%H%M').hour)\n",
    "delays['crs_arr_time_min'] = delays['crs_arr_time'].apply(lambda x: dt.datetime.strptime(str(x),  '%H%M').minute)\n",
    "\n",
    "delays['dep_time_hour'] = delays['dep_time'].apply(lambda x: dt.datetime.strptime(str(x),  '%H%M').hour)\n",
    "delays['dep_time_min'] = delays['dep_time'].apply(lambda x: dt.datetime.strptime(str(x),  '%H%M').minute)\n",
    "delays['arr_time_hour'] = delays['arr_time'].apply(lambda x: dt.datetime.strptime(str(x),  '%H%M').hour)\n",
    "delays['arr_time_min'] = delays['arr_time'].apply(lambda x: dt.datetime.strptime(str(x),  '%H%M').minute)"
   ]
  },
  {
   "cell_type": "code",
   "execution_count": 1407,
   "metadata": {},
   "outputs": [],
   "source": [
    "delays['crs_dep_time_hour'] = delays['crs_dep_time_hour'].apply(lambda x: str(x).zfill(2))\n",
    "delays['crs_dep_time_min'] = delays['crs_dep_time_min'].apply(lambda x: str(x).zfill(2))\n",
    "delays['crs_arr_time_hour'] = delays['crs_arr_time_hour'].apply(lambda x: str(x).zfill(2))\n",
    "delays['crs_arr_time_min'] = delays['crs_arr_time_min'].apply(lambda x: str(x).zfill(2))\n",
    "\n",
    "delays['dep_time_hour'] = delays['dep_time_hour'].apply(lambda x: str(x).zfill(2))\n",
    "delays['dep_time_min'] = delays['dep_time_min'].apply(lambda x: str(x).zfill(2))\n",
    "delays['arr_time_hour'] = delays['arr_time_hour'].apply(lambda x: str(x).zfill(2))\n",
    "delays['arr_time_min'] = delays['arr_time_min'].apply(lambda x: str(x).zfill(2))"
   ]
  },
  {
   "cell_type": "code",
   "execution_count": 1408,
   "metadata": {},
   "outputs": [],
   "source": [
    "delays['crs_dep_time_2'] = delays['crs_dep_time_hour'].apply(lambda x: str(x)) + ':' + delays['crs_dep_time_min'].apply(lambda x: str(x))\n",
    "delays['crs_arr_time_2'] = delays['crs_arr_time_hour'].apply(lambda x: str(x)) + ':' + delays['crs_arr_time_min'].apply(lambda x: str(x))\n",
    "\n",
    "delays['dep_time_2'] = delays['dep_time_hour'].apply(lambda x: str(x)) + ':' + delays['dep_time_min'].apply(lambda x: str(x))\n",
    "delays['arr_time_2'] = delays['arr_time_hour'].apply(lambda x: str(x)) + ':' + delays['arr_time_min'].apply(lambda x: str(x))"
   ]
  },
  {
   "cell_type": "code",
   "execution_count": 1409,
   "metadata": {},
   "outputs": [
    {
     "data": {
      "text/plain": [
       "fl_date                 object\n",
       "crs_dep_time            object\n",
       "dep_time                object\n",
       "actual_elapsed_time    float64\n",
       "crs_arr_time            object\n",
       "arr_time                object\n",
       "dep_time_h              object\n",
       "dep_time_m              object\n",
       "arr_time_h              object\n",
       "arr_time_m              object\n",
       "crs_dep_time_h          object\n",
       "crs_dep_time_m          object\n",
       "crs_arr_time_h          object\n",
       "crs_arr_time_m          object\n",
       "crs_dep_time_hour       object\n",
       "crs_dep_time_min        object\n",
       "crs_arr_time_hour       object\n",
       "crs_arr_time_min        object\n",
       "dep_time_hour           object\n",
       "dep_time_min            object\n",
       "arr_time_hour           object\n",
       "arr_time_min            object\n",
       "crs_dep_time_2          object\n",
       "crs_arr_time_2          object\n",
       "dep_time_2              object\n",
       "arr_time_2              object\n",
       "dtype: object"
      ]
     },
     "execution_count": 1409,
     "metadata": {},
     "output_type": "execute_result"
    }
   ],
   "source": [
    "delays.dtypes"
   ]
  },
  {
   "cell_type": "code",
   "execution_count": 1410,
   "metadata": {},
   "outputs": [],
   "source": [
    "#delays = delays[['fl_date', 'actual_elapsed_time', 'crs_dep_time_2', 'crs_arr_time_2', 'dep_time_2', 'arr_time_2']]\n",
    "#delays=delays.copy()\n",
    "#delays.head()"
   ]
  },
  {
   "cell_type": "code",
   "execution_count": 1411,
   "metadata": {},
   "outputs": [
    {
     "data": {
      "text/html": [
       "<div>\n",
       "<style scoped>\n",
       "    .dataframe tbody tr th:only-of-type {\n",
       "        vertical-align: middle;\n",
       "    }\n",
       "\n",
       "    .dataframe tbody tr th {\n",
       "        vertical-align: top;\n",
       "    }\n",
       "\n",
       "    .dataframe thead th {\n",
       "        text-align: right;\n",
       "    }\n",
       "</style>\n",
       "<table border=\"1\" class=\"dataframe\">\n",
       "  <thead>\n",
       "    <tr style=\"text-align: right;\">\n",
       "      <th></th>\n",
       "      <th>fl_date</th>\n",
       "      <th>crs_dep_time</th>\n",
       "      <th>dep_time</th>\n",
       "      <th>actual_elapsed_time</th>\n",
       "      <th>crs_arr_time</th>\n",
       "      <th>arr_time</th>\n",
       "      <th>dep_time_h</th>\n",
       "      <th>dep_time_m</th>\n",
       "      <th>arr_time_h</th>\n",
       "      <th>arr_time_m</th>\n",
       "      <th>...</th>\n",
       "      <th>crs_arr_time_hour</th>\n",
       "      <th>crs_arr_time_min</th>\n",
       "      <th>dep_time_hour</th>\n",
       "      <th>dep_time_min</th>\n",
       "      <th>arr_time_hour</th>\n",
       "      <th>arr_time_min</th>\n",
       "      <th>crs_dep_time_2</th>\n",
       "      <th>crs_arr_time_2</th>\n",
       "      <th>dep_time_2</th>\n",
       "      <th>arr_time_2</th>\n",
       "    </tr>\n",
       "  </thead>\n",
       "  <tbody>\n",
       "    <tr>\n",
       "      <th>0</th>\n",
       "      <td>2019-12-07</td>\n",
       "      <td>1550</td>\n",
       "      <td>1545</td>\n",
       "      <td>63.0</td>\n",
       "      <td>1655</td>\n",
       "      <td>1648</td>\n",
       "      <td>15</td>\n",
       "      <td>45</td>\n",
       "      <td>16</td>\n",
       "      <td>48</td>\n",
       "      <td>...</td>\n",
       "      <td>16</td>\n",
       "      <td>55</td>\n",
       "      <td>15</td>\n",
       "      <td>45</td>\n",
       "      <td>16</td>\n",
       "      <td>48</td>\n",
       "      <td>15:50</td>\n",
       "      <td>16:55</td>\n",
       "      <td>15:45</td>\n",
       "      <td>16:48</td>\n",
       "    </tr>\n",
       "    <tr>\n",
       "      <th>1</th>\n",
       "      <td>2019-04-06</td>\n",
       "      <td>0835</td>\n",
       "      <td>0829</td>\n",
       "      <td>309.0</td>\n",
       "      <td>1153</td>\n",
       "      <td>1238</td>\n",
       "      <td>08</td>\n",
       "      <td>29</td>\n",
       "      <td>12</td>\n",
       "      <td>38</td>\n",
       "      <td>...</td>\n",
       "      <td>11</td>\n",
       "      <td>53</td>\n",
       "      <td>08</td>\n",
       "      <td>29</td>\n",
       "      <td>12</td>\n",
       "      <td>38</td>\n",
       "      <td>08:35</td>\n",
       "      <td>11:53</td>\n",
       "      <td>08:29</td>\n",
       "      <td>12:38</td>\n",
       "    </tr>\n",
       "    <tr>\n",
       "      <th>2</th>\n",
       "      <td>2019-07-12</td>\n",
       "      <td>1925</td>\n",
       "      <td>1918</td>\n",
       "      <td>370.0</td>\n",
       "      <td>2235</td>\n",
       "      <td>2228</td>\n",
       "      <td>19</td>\n",
       "      <td>18</td>\n",
       "      <td>22</td>\n",
       "      <td>28</td>\n",
       "      <td>...</td>\n",
       "      <td>22</td>\n",
       "      <td>35</td>\n",
       "      <td>19</td>\n",
       "      <td>18</td>\n",
       "      <td>22</td>\n",
       "      <td>28</td>\n",
       "      <td>19:25</td>\n",
       "      <td>22:35</td>\n",
       "      <td>19:18</td>\n",
       "      <td>22:28</td>\n",
       "    </tr>\n",
       "    <tr>\n",
       "      <th>3</th>\n",
       "      <td>2019-08-23</td>\n",
       "      <td>1802</td>\n",
       "      <td>1821</td>\n",
       "      <td>215.0</td>\n",
       "      <td>1948</td>\n",
       "      <td>1956</td>\n",
       "      <td>18</td>\n",
       "      <td>21</td>\n",
       "      <td>19</td>\n",
       "      <td>56</td>\n",
       "      <td>...</td>\n",
       "      <td>19</td>\n",
       "      <td>48</td>\n",
       "      <td>18</td>\n",
       "      <td>21</td>\n",
       "      <td>19</td>\n",
       "      <td>56</td>\n",
       "      <td>18:02</td>\n",
       "      <td>19:48</td>\n",
       "      <td>18:21</td>\n",
       "      <td>19:56</td>\n",
       "    </tr>\n",
       "    <tr>\n",
       "      <th>4</th>\n",
       "      <td>2019-11-26</td>\n",
       "      <td>1315</td>\n",
       "      <td>1312</td>\n",
       "      <td>110.0</td>\n",
       "      <td>1603</td>\n",
       "      <td>1602</td>\n",
       "      <td>13</td>\n",
       "      <td>12</td>\n",
       "      <td>16</td>\n",
       "      <td>02</td>\n",
       "      <td>...</td>\n",
       "      <td>16</td>\n",
       "      <td>03</td>\n",
       "      <td>13</td>\n",
       "      <td>12</td>\n",
       "      <td>16</td>\n",
       "      <td>02</td>\n",
       "      <td>13:15</td>\n",
       "      <td>16:03</td>\n",
       "      <td>13:12</td>\n",
       "      <td>16:02</td>\n",
       "    </tr>\n",
       "    <tr>\n",
       "      <th>...</th>\n",
       "      <td>...</td>\n",
       "      <td>...</td>\n",
       "      <td>...</td>\n",
       "      <td>...</td>\n",
       "      <td>...</td>\n",
       "      <td>...</td>\n",
       "      <td>...</td>\n",
       "      <td>...</td>\n",
       "      <td>...</td>\n",
       "      <td>...</td>\n",
       "      <td>...</td>\n",
       "      <td>...</td>\n",
       "      <td>...</td>\n",
       "      <td>...</td>\n",
       "      <td>...</td>\n",
       "      <td>...</td>\n",
       "      <td>...</td>\n",
       "      <td>...</td>\n",
       "      <td>...</td>\n",
       "      <td>...</td>\n",
       "      <td>...</td>\n",
       "    </tr>\n",
       "    <tr>\n",
       "      <th>9995</th>\n",
       "      <td>2018-10-31</td>\n",
       "      <td>1645</td>\n",
       "      <td>2016</td>\n",
       "      <td>99.0</td>\n",
       "      <td>1826</td>\n",
       "      <td>2155</td>\n",
       "      <td>20</td>\n",
       "      <td>16</td>\n",
       "      <td>21</td>\n",
       "      <td>55</td>\n",
       "      <td>...</td>\n",
       "      <td>18</td>\n",
       "      <td>26</td>\n",
       "      <td>20</td>\n",
       "      <td>16</td>\n",
       "      <td>21</td>\n",
       "      <td>55</td>\n",
       "      <td>16:45</td>\n",
       "      <td>18:26</td>\n",
       "      <td>20:16</td>\n",
       "      <td>21:55</td>\n",
       "    </tr>\n",
       "    <tr>\n",
       "      <th>9996</th>\n",
       "      <td>2019-07-14</td>\n",
       "      <td>0805</td>\n",
       "      <td>0800</td>\n",
       "      <td>78.0</td>\n",
       "      <td>0930</td>\n",
       "      <td>0918</td>\n",
       "      <td>08</td>\n",
       "      <td>00</td>\n",
       "      <td>09</td>\n",
       "      <td>18</td>\n",
       "      <td>...</td>\n",
       "      <td>09</td>\n",
       "      <td>30</td>\n",
       "      <td>08</td>\n",
       "      <td>00</td>\n",
       "      <td>09</td>\n",
       "      <td>18</td>\n",
       "      <td>08:05</td>\n",
       "      <td>09:30</td>\n",
       "      <td>08:00</td>\n",
       "      <td>09:18</td>\n",
       "    </tr>\n",
       "    <tr>\n",
       "      <th>9997</th>\n",
       "      <td>2019-10-09</td>\n",
       "      <td>1650</td>\n",
       "      <td>1646</td>\n",
       "      <td>139.0</td>\n",
       "      <td>1846</td>\n",
       "      <td>1805</td>\n",
       "      <td>16</td>\n",
       "      <td>46</td>\n",
       "      <td>18</td>\n",
       "      <td>05</td>\n",
       "      <td>...</td>\n",
       "      <td>18</td>\n",
       "      <td>46</td>\n",
       "      <td>16</td>\n",
       "      <td>46</td>\n",
       "      <td>18</td>\n",
       "      <td>05</td>\n",
       "      <td>16:50</td>\n",
       "      <td>18:46</td>\n",
       "      <td>16:46</td>\n",
       "      <td>18:05</td>\n",
       "    </tr>\n",
       "    <tr>\n",
       "      <th>9998</th>\n",
       "      <td>2019-09-04</td>\n",
       "      <td>1855</td>\n",
       "      <td>1856</td>\n",
       "      <td>222.0</td>\n",
       "      <td>0040</td>\n",
       "      <td>0038</td>\n",
       "      <td>18</td>\n",
       "      <td>56</td>\n",
       "      <td>00</td>\n",
       "      <td>38</td>\n",
       "      <td>...</td>\n",
       "      <td>00</td>\n",
       "      <td>40</td>\n",
       "      <td>18</td>\n",
       "      <td>56</td>\n",
       "      <td>00</td>\n",
       "      <td>38</td>\n",
       "      <td>18:55</td>\n",
       "      <td>00:40</td>\n",
       "      <td>18:56</td>\n",
       "      <td>00:38</td>\n",
       "    </tr>\n",
       "    <tr>\n",
       "      <th>9999</th>\n",
       "      <td>2018-10-31</td>\n",
       "      <td>1119</td>\n",
       "      <td>1113</td>\n",
       "      <td>46.0</td>\n",
       "      <td>1155</td>\n",
       "      <td>1159</td>\n",
       "      <td>11</td>\n",
       "      <td>13</td>\n",
       "      <td>11</td>\n",
       "      <td>59</td>\n",
       "      <td>...</td>\n",
       "      <td>11</td>\n",
       "      <td>55</td>\n",
       "      <td>11</td>\n",
       "      <td>13</td>\n",
       "      <td>11</td>\n",
       "      <td>59</td>\n",
       "      <td>11:19</td>\n",
       "      <td>11:55</td>\n",
       "      <td>11:13</td>\n",
       "      <td>11:59</td>\n",
       "    </tr>\n",
       "  </tbody>\n",
       "</table>\n",
       "<p>9815 rows × 26 columns</p>\n",
       "</div>"
      ],
      "text/plain": [
       "         fl_date crs_dep_time dep_time  actual_elapsed_time crs_arr_time  \\\n",
       "0     2019-12-07         1550     1545                 63.0         1655   \n",
       "1     2019-04-06         0835     0829                309.0         1153   \n",
       "2     2019-07-12         1925     1918                370.0         2235   \n",
       "3     2019-08-23         1802     1821                215.0         1948   \n",
       "4     2019-11-26         1315     1312                110.0         1603   \n",
       "...          ...          ...      ...                  ...          ...   \n",
       "9995  2018-10-31         1645     2016                 99.0         1826   \n",
       "9996  2019-07-14         0805     0800                 78.0         0930   \n",
       "9997  2019-10-09         1650     1646                139.0         1846   \n",
       "9998  2019-09-04         1855     1856                222.0         0040   \n",
       "9999  2018-10-31         1119     1113                 46.0         1155   \n",
       "\n",
       "     arr_time dep_time_h dep_time_m arr_time_h arr_time_m  ...  \\\n",
       "0        1648         15         45         16         48  ...   \n",
       "1        1238         08         29         12         38  ...   \n",
       "2        2228         19         18         22         28  ...   \n",
       "3        1956         18         21         19         56  ...   \n",
       "4        1602         13         12         16         02  ...   \n",
       "...       ...        ...        ...        ...        ...  ...   \n",
       "9995     2155         20         16         21         55  ...   \n",
       "9996     0918         08         00         09         18  ...   \n",
       "9997     1805         16         46         18         05  ...   \n",
       "9998     0038         18         56         00         38  ...   \n",
       "9999     1159         11         13         11         59  ...   \n",
       "\n",
       "     crs_arr_time_hour crs_arr_time_min dep_time_hour dep_time_min  \\\n",
       "0                   16               55            15           45   \n",
       "1                   11               53            08           29   \n",
       "2                   22               35            19           18   \n",
       "3                   19               48            18           21   \n",
       "4                   16               03            13           12   \n",
       "...                ...              ...           ...          ...   \n",
       "9995                18               26            20           16   \n",
       "9996                09               30            08           00   \n",
       "9997                18               46            16           46   \n",
       "9998                00               40            18           56   \n",
       "9999                11               55            11           13   \n",
       "\n",
       "     arr_time_hour arr_time_min crs_dep_time_2 crs_arr_time_2 dep_time_2  \\\n",
       "0               16           48          15:50          16:55      15:45   \n",
       "1               12           38          08:35          11:53      08:29   \n",
       "2               22           28          19:25          22:35      19:18   \n",
       "3               19           56          18:02          19:48      18:21   \n",
       "4               16           02          13:15          16:03      13:12   \n",
       "...            ...          ...            ...            ...        ...   \n",
       "9995            21           55          16:45          18:26      20:16   \n",
       "9996            09           18          08:05          09:30      08:00   \n",
       "9997            18           05          16:50          18:46      16:46   \n",
       "9998            00           38          18:55          00:40      18:56   \n",
       "9999            11           59          11:19          11:55      11:13   \n",
       "\n",
       "     arr_time_2  \n",
       "0         16:48  \n",
       "1         12:38  \n",
       "2         22:28  \n",
       "3         19:56  \n",
       "4         16:02  \n",
       "...         ...  \n",
       "9995      21:55  \n",
       "9996      09:18  \n",
       "9997      18:05  \n",
       "9998      00:38  \n",
       "9999      11:59  \n",
       "\n",
       "[9815 rows x 26 columns]"
      ]
     },
     "execution_count": 1411,
     "metadata": {},
     "output_type": "execute_result"
    }
   ],
   "source": [
    "delays"
   ]
  },
  {
   "cell_type": "code",
   "execution_count": 1412,
   "metadata": {},
   "outputs": [],
   "source": [
    "delays = delays.copy()\n",
    "delays['dep_next_day'] = 0\n",
    "delays['arr_next_day'] = 0"
   ]
  },
  {
   "cell_type": "code",
   "execution_count": 1413,
   "metadata": {},
   "outputs": [
    {
     "data": {
      "text/plain": [
       "'15'"
      ]
     },
     "execution_count": 1413,
     "metadata": {},
     "output_type": "execute_result"
    }
   ],
   "source": [
    "delays['dep_time_h'][0]"
   ]
  },
  {
   "cell_type": "code",
   "execution_count": 1414,
   "metadata": {},
   "outputs": [],
   "source": [
    "#delays['dep_time_h'].shape"
   ]
  },
  {
   "cell_type": "code",
   "execution_count": 1415,
   "metadata": {},
   "outputs": [
    {
     "name": "stdout",
     "output_type": "stream",
     "text": [
      "yes\n"
     ]
    }
   ],
   "source": [
    "a = 23\n",
    "b = 2\n",
    "if b - a < -2:\n",
    "    print('yes')"
   ]
  },
  {
   "cell_type": "code",
   "execution_count": null,
   "metadata": {},
   "outputs": [],
   "source": []
  },
  {
   "cell_type": "code",
   "execution_count": null,
   "metadata": {},
   "outputs": [],
   "source": []
  },
  {
   "cell_type": "code",
   "execution_count": 1417,
   "metadata": {},
   "outputs": [
    {
     "name": "stderr",
     "output_type": "stream",
     "text": [
      "<ipython-input-1417-0e2d9bc7318d>:5: SettingWithCopyWarning: \n",
      "A value is trying to be set on a copy of a slice from a DataFrame\n",
      "\n",
      "See the caveats in the documentation: https://pandas.pydata.org/pandas-docs/stable/user_guide/indexing.html#returning-a-view-versus-a-copy\n",
      "  delays.iloc[i]['dep_next_day'] = 0\n",
      "<ipython-input-1417-0e2d9bc7318d>:3: SettingWithCopyWarning: \n",
      "A value is trying to be set on a copy of a slice from a DataFrame\n",
      "\n",
      "See the caveats in the documentation: https://pandas.pydata.org/pandas-docs/stable/user_guide/indexing.html#returning-a-view-versus-a-copy\n",
      "  delays.iloc[i]['dep_next_day'] = 1\n",
      "<ipython-input-1417-0e2d9bc7318d>:11: SettingWithCopyWarning: \n",
      "A value is trying to be set on a copy of a slice from a DataFrame\n",
      "\n",
      "See the caveats in the documentation: https://pandas.pydata.org/pandas-docs/stable/user_guide/indexing.html#returning-a-view-versus-a-copy\n",
      "  delays.iloc[i]['arr_next_day'] = 0\n",
      "<ipython-input-1417-0e2d9bc7318d>:9: SettingWithCopyWarning: \n",
      "A value is trying to be set on a copy of a slice from a DataFrame\n",
      "\n",
      "See the caveats in the documentation: https://pandas.pydata.org/pandas-docs/stable/user_guide/indexing.html#returning-a-view-versus-a-copy\n",
      "  delays.iloc[i]['arr_next_day'] = 1\n"
     ]
    }
   ],
   "source": [
    "for i in range(len(delays['dep_time_h'])):\n",
    "    if (int(delays.iloc[i]['dep_time_h']) - int(delays.iloc[i]['crs_dep_time_h'])) < -2:\n",
    "        delays.iloc[i]['dep_next_day'] = 1\n",
    "    else:\n",
    "        delays.iloc[i]['dep_next_day'] = 0\n",
    "        \n",
    "for i in range(len(delays['arr_time_h'])):\n",
    "    if (int(delays.iloc[i]['arr_time_h']) - int(delays.iloc[i]['crs_arr_time_h'])) < -2:\n",
    "        delays.iloc[i]['arr_next_day'] = 1\n",
    "    else:\n",
    "        delays.iloc[i]['arr_next_day'] = 0"
   ]
  },
  {
   "cell_type": "code",
   "execution_count": 1418,
   "metadata": {},
   "outputs": [
    {
     "data": {
      "text/html": [
       "<div>\n",
       "<style scoped>\n",
       "    .dataframe tbody tr th:only-of-type {\n",
       "        vertical-align: middle;\n",
       "    }\n",
       "\n",
       "    .dataframe tbody tr th {\n",
       "        vertical-align: top;\n",
       "    }\n",
       "\n",
       "    .dataframe thead th {\n",
       "        text-align: right;\n",
       "    }\n",
       "</style>\n",
       "<table border=\"1\" class=\"dataframe\">\n",
       "  <thead>\n",
       "    <tr style=\"text-align: right;\">\n",
       "      <th></th>\n",
       "      <th>fl_date</th>\n",
       "      <th>crs_dep_time</th>\n",
       "      <th>dep_time</th>\n",
       "      <th>actual_elapsed_time</th>\n",
       "      <th>crs_arr_time</th>\n",
       "      <th>arr_time</th>\n",
       "      <th>dep_time_h</th>\n",
       "      <th>dep_time_m</th>\n",
       "      <th>arr_time_h</th>\n",
       "      <th>arr_time_m</th>\n",
       "      <th>...</th>\n",
       "      <th>dep_time_hour</th>\n",
       "      <th>dep_time_min</th>\n",
       "      <th>arr_time_hour</th>\n",
       "      <th>arr_time_min</th>\n",
       "      <th>crs_dep_time_2</th>\n",
       "      <th>crs_arr_time_2</th>\n",
       "      <th>dep_time_2</th>\n",
       "      <th>arr_time_2</th>\n",
       "      <th>dep_next_day</th>\n",
       "      <th>arr_next_day</th>\n",
       "    </tr>\n",
       "  </thead>\n",
       "  <tbody>\n",
       "    <tr>\n",
       "      <th>0</th>\n",
       "      <td>2019-12-07</td>\n",
       "      <td>1550</td>\n",
       "      <td>1545</td>\n",
       "      <td>63.0</td>\n",
       "      <td>1655</td>\n",
       "      <td>1648</td>\n",
       "      <td>15</td>\n",
       "      <td>45</td>\n",
       "      <td>16</td>\n",
       "      <td>48</td>\n",
       "      <td>...</td>\n",
       "      <td>15</td>\n",
       "      <td>45</td>\n",
       "      <td>16</td>\n",
       "      <td>48</td>\n",
       "      <td>15:50</td>\n",
       "      <td>16:55</td>\n",
       "      <td>15:45</td>\n",
       "      <td>16:48</td>\n",
       "      <td>0</td>\n",
       "      <td>0</td>\n",
       "    </tr>\n",
       "    <tr>\n",
       "      <th>1</th>\n",
       "      <td>2019-04-06</td>\n",
       "      <td>0835</td>\n",
       "      <td>0829</td>\n",
       "      <td>309.0</td>\n",
       "      <td>1153</td>\n",
       "      <td>1238</td>\n",
       "      <td>08</td>\n",
       "      <td>29</td>\n",
       "      <td>12</td>\n",
       "      <td>38</td>\n",
       "      <td>...</td>\n",
       "      <td>08</td>\n",
       "      <td>29</td>\n",
       "      <td>12</td>\n",
       "      <td>38</td>\n",
       "      <td>08:35</td>\n",
       "      <td>11:53</td>\n",
       "      <td>08:29</td>\n",
       "      <td>12:38</td>\n",
       "      <td>0</td>\n",
       "      <td>0</td>\n",
       "    </tr>\n",
       "    <tr>\n",
       "      <th>2</th>\n",
       "      <td>2019-07-12</td>\n",
       "      <td>1925</td>\n",
       "      <td>1918</td>\n",
       "      <td>370.0</td>\n",
       "      <td>2235</td>\n",
       "      <td>2228</td>\n",
       "      <td>19</td>\n",
       "      <td>18</td>\n",
       "      <td>22</td>\n",
       "      <td>28</td>\n",
       "      <td>...</td>\n",
       "      <td>19</td>\n",
       "      <td>18</td>\n",
       "      <td>22</td>\n",
       "      <td>28</td>\n",
       "      <td>19:25</td>\n",
       "      <td>22:35</td>\n",
       "      <td>19:18</td>\n",
       "      <td>22:28</td>\n",
       "      <td>0</td>\n",
       "      <td>0</td>\n",
       "    </tr>\n",
       "    <tr>\n",
       "      <th>3</th>\n",
       "      <td>2019-08-23</td>\n",
       "      <td>1802</td>\n",
       "      <td>1821</td>\n",
       "      <td>215.0</td>\n",
       "      <td>1948</td>\n",
       "      <td>1956</td>\n",
       "      <td>18</td>\n",
       "      <td>21</td>\n",
       "      <td>19</td>\n",
       "      <td>56</td>\n",
       "      <td>...</td>\n",
       "      <td>18</td>\n",
       "      <td>21</td>\n",
       "      <td>19</td>\n",
       "      <td>56</td>\n",
       "      <td>18:02</td>\n",
       "      <td>19:48</td>\n",
       "      <td>18:21</td>\n",
       "      <td>19:56</td>\n",
       "      <td>0</td>\n",
       "      <td>0</td>\n",
       "    </tr>\n",
       "    <tr>\n",
       "      <th>4</th>\n",
       "      <td>2019-11-26</td>\n",
       "      <td>1315</td>\n",
       "      <td>1312</td>\n",
       "      <td>110.0</td>\n",
       "      <td>1603</td>\n",
       "      <td>1602</td>\n",
       "      <td>13</td>\n",
       "      <td>12</td>\n",
       "      <td>16</td>\n",
       "      <td>02</td>\n",
       "      <td>...</td>\n",
       "      <td>13</td>\n",
       "      <td>12</td>\n",
       "      <td>16</td>\n",
       "      <td>02</td>\n",
       "      <td>13:15</td>\n",
       "      <td>16:03</td>\n",
       "      <td>13:12</td>\n",
       "      <td>16:02</td>\n",
       "      <td>0</td>\n",
       "      <td>0</td>\n",
       "    </tr>\n",
       "    <tr>\n",
       "      <th>...</th>\n",
       "      <td>...</td>\n",
       "      <td>...</td>\n",
       "      <td>...</td>\n",
       "      <td>...</td>\n",
       "      <td>...</td>\n",
       "      <td>...</td>\n",
       "      <td>...</td>\n",
       "      <td>...</td>\n",
       "      <td>...</td>\n",
       "      <td>...</td>\n",
       "      <td>...</td>\n",
       "      <td>...</td>\n",
       "      <td>...</td>\n",
       "      <td>...</td>\n",
       "      <td>...</td>\n",
       "      <td>...</td>\n",
       "      <td>...</td>\n",
       "      <td>...</td>\n",
       "      <td>...</td>\n",
       "      <td>...</td>\n",
       "      <td>...</td>\n",
       "    </tr>\n",
       "    <tr>\n",
       "      <th>9995</th>\n",
       "      <td>2018-10-31</td>\n",
       "      <td>1645</td>\n",
       "      <td>2016</td>\n",
       "      <td>99.0</td>\n",
       "      <td>1826</td>\n",
       "      <td>2155</td>\n",
       "      <td>20</td>\n",
       "      <td>16</td>\n",
       "      <td>21</td>\n",
       "      <td>55</td>\n",
       "      <td>...</td>\n",
       "      <td>20</td>\n",
       "      <td>16</td>\n",
       "      <td>21</td>\n",
       "      <td>55</td>\n",
       "      <td>16:45</td>\n",
       "      <td>18:26</td>\n",
       "      <td>20:16</td>\n",
       "      <td>21:55</td>\n",
       "      <td>0</td>\n",
       "      <td>0</td>\n",
       "    </tr>\n",
       "    <tr>\n",
       "      <th>9996</th>\n",
       "      <td>2019-07-14</td>\n",
       "      <td>0805</td>\n",
       "      <td>0800</td>\n",
       "      <td>78.0</td>\n",
       "      <td>0930</td>\n",
       "      <td>0918</td>\n",
       "      <td>08</td>\n",
       "      <td>00</td>\n",
       "      <td>09</td>\n",
       "      <td>18</td>\n",
       "      <td>...</td>\n",
       "      <td>08</td>\n",
       "      <td>00</td>\n",
       "      <td>09</td>\n",
       "      <td>18</td>\n",
       "      <td>08:05</td>\n",
       "      <td>09:30</td>\n",
       "      <td>08:00</td>\n",
       "      <td>09:18</td>\n",
       "      <td>0</td>\n",
       "      <td>0</td>\n",
       "    </tr>\n",
       "    <tr>\n",
       "      <th>9997</th>\n",
       "      <td>2019-10-09</td>\n",
       "      <td>1650</td>\n",
       "      <td>1646</td>\n",
       "      <td>139.0</td>\n",
       "      <td>1846</td>\n",
       "      <td>1805</td>\n",
       "      <td>16</td>\n",
       "      <td>46</td>\n",
       "      <td>18</td>\n",
       "      <td>05</td>\n",
       "      <td>...</td>\n",
       "      <td>16</td>\n",
       "      <td>46</td>\n",
       "      <td>18</td>\n",
       "      <td>05</td>\n",
       "      <td>16:50</td>\n",
       "      <td>18:46</td>\n",
       "      <td>16:46</td>\n",
       "      <td>18:05</td>\n",
       "      <td>0</td>\n",
       "      <td>0</td>\n",
       "    </tr>\n",
       "    <tr>\n",
       "      <th>9998</th>\n",
       "      <td>2019-09-04</td>\n",
       "      <td>1855</td>\n",
       "      <td>1856</td>\n",
       "      <td>222.0</td>\n",
       "      <td>0040</td>\n",
       "      <td>0038</td>\n",
       "      <td>18</td>\n",
       "      <td>56</td>\n",
       "      <td>00</td>\n",
       "      <td>38</td>\n",
       "      <td>...</td>\n",
       "      <td>18</td>\n",
       "      <td>56</td>\n",
       "      <td>00</td>\n",
       "      <td>38</td>\n",
       "      <td>18:55</td>\n",
       "      <td>00:40</td>\n",
       "      <td>18:56</td>\n",
       "      <td>00:38</td>\n",
       "      <td>0</td>\n",
       "      <td>0</td>\n",
       "    </tr>\n",
       "    <tr>\n",
       "      <th>9999</th>\n",
       "      <td>2018-10-31</td>\n",
       "      <td>1119</td>\n",
       "      <td>1113</td>\n",
       "      <td>46.0</td>\n",
       "      <td>1155</td>\n",
       "      <td>1159</td>\n",
       "      <td>11</td>\n",
       "      <td>13</td>\n",
       "      <td>11</td>\n",
       "      <td>59</td>\n",
       "      <td>...</td>\n",
       "      <td>11</td>\n",
       "      <td>13</td>\n",
       "      <td>11</td>\n",
       "      <td>59</td>\n",
       "      <td>11:19</td>\n",
       "      <td>11:55</td>\n",
       "      <td>11:13</td>\n",
       "      <td>11:59</td>\n",
       "      <td>0</td>\n",
       "      <td>0</td>\n",
       "    </tr>\n",
       "  </tbody>\n",
       "</table>\n",
       "<p>9815 rows × 28 columns</p>\n",
       "</div>"
      ],
      "text/plain": [
       "         fl_date crs_dep_time dep_time  actual_elapsed_time crs_arr_time  \\\n",
       "0     2019-12-07         1550     1545                 63.0         1655   \n",
       "1     2019-04-06         0835     0829                309.0         1153   \n",
       "2     2019-07-12         1925     1918                370.0         2235   \n",
       "3     2019-08-23         1802     1821                215.0         1948   \n",
       "4     2019-11-26         1315     1312                110.0         1603   \n",
       "...          ...          ...      ...                  ...          ...   \n",
       "9995  2018-10-31         1645     2016                 99.0         1826   \n",
       "9996  2019-07-14         0805     0800                 78.0         0930   \n",
       "9997  2019-10-09         1650     1646                139.0         1846   \n",
       "9998  2019-09-04         1855     1856                222.0         0040   \n",
       "9999  2018-10-31         1119     1113                 46.0         1155   \n",
       "\n",
       "     arr_time dep_time_h dep_time_m arr_time_h arr_time_m  ... dep_time_hour  \\\n",
       "0        1648         15         45         16         48  ...            15   \n",
       "1        1238         08         29         12         38  ...            08   \n",
       "2        2228         19         18         22         28  ...            19   \n",
       "3        1956         18         21         19         56  ...            18   \n",
       "4        1602         13         12         16         02  ...            13   \n",
       "...       ...        ...        ...        ...        ...  ...           ...   \n",
       "9995     2155         20         16         21         55  ...            20   \n",
       "9996     0918         08         00         09         18  ...            08   \n",
       "9997     1805         16         46         18         05  ...            16   \n",
       "9998     0038         18         56         00         38  ...            18   \n",
       "9999     1159         11         13         11         59  ...            11   \n",
       "\n",
       "     dep_time_min arr_time_hour arr_time_min crs_dep_time_2 crs_arr_time_2  \\\n",
       "0              45            16           48          15:50          16:55   \n",
       "1              29            12           38          08:35          11:53   \n",
       "2              18            22           28          19:25          22:35   \n",
       "3              21            19           56          18:02          19:48   \n",
       "4              12            16           02          13:15          16:03   \n",
       "...           ...           ...          ...            ...            ...   \n",
       "9995           16            21           55          16:45          18:26   \n",
       "9996           00            09           18          08:05          09:30   \n",
       "9997           46            18           05          16:50          18:46   \n",
       "9998           56            00           38          18:55          00:40   \n",
       "9999           13            11           59          11:19          11:55   \n",
       "\n",
       "     dep_time_2 arr_time_2 dep_next_day arr_next_day  \n",
       "0         15:45      16:48            0            0  \n",
       "1         08:29      12:38            0            0  \n",
       "2         19:18      22:28            0            0  \n",
       "3         18:21      19:56            0            0  \n",
       "4         13:12      16:02            0            0  \n",
       "...         ...        ...          ...          ...  \n",
       "9995      20:16      21:55            0            0  \n",
       "9996      08:00      09:18            0            0  \n",
       "9997      16:46      18:05            0            0  \n",
       "9998      18:56      00:38            0            0  \n",
       "9999      11:13      11:59            0            0  \n",
       "\n",
       "[9815 rows x 28 columns]"
      ]
     },
     "execution_count": 1418,
     "metadata": {},
     "output_type": "execute_result"
    }
   ],
   "source": [
    "delays"
   ]
  },
  {
   "cell_type": "code",
   "execution_count": 1419,
   "metadata": {},
   "outputs": [
    {
     "data": {
      "text/plain": [
       "'2019-12-07'"
      ]
     },
     "execution_count": 1419,
     "metadata": {},
     "output_type": "execute_result"
    }
   ],
   "source": [
    "delays.fl_date[0]"
   ]
  },
  {
   "cell_type": "code",
   "execution_count": null,
   "metadata": {},
   "outputs": [],
   "source": []
  },
  {
   "cell_type": "code",
   "execution_count": 1420,
   "metadata": {},
   "outputs": [
    {
     "data": {
      "text/plain": [
       "Timestamp('2019-12-08 00:00:00')"
      ]
     },
     "execution_count": 1420,
     "metadata": {},
     "output_type": "execute_result"
    }
   ],
   "source": [
    "pd.to_datetime(delays.fl_date[0])+datetime.timedelta(days=1)"
   ]
  },
  {
   "cell_type": "code",
   "execution_count": null,
   "metadata": {},
   "outputs": [],
   "source": []
  },
  {
   "cell_type": "code",
   "execution_count": 1421,
   "metadata": {},
   "outputs": [],
   "source": [
    "delays['crs_dep_time_3'] = delays.fl_date + ' ' + delays.crs_dep_time_2\n",
    "delays['crs_arr_time_3'] = delays.fl_date + ' ' + delays.crs_arr_time_2\n",
    "\n",
    "delays['dep_time_3'] = delays.fl_date + ' ' + delays.dep_time_2\n",
    "delays['arr_time_3'] = delays.fl_date + ' ' + delays.arr_time_2"
   ]
  },
  {
   "cell_type": "code",
   "execution_count": 1422,
   "metadata": {},
   "outputs": [],
   "source": [
    "delays['crs_dep_time_3'] = pd.to_datetime(delays['crs_dep_time_3'])\n",
    "delays['crs_arr_time_3'] = pd.to_datetime(delays['crs_arr_time_3'])\n",
    "delays['dep_time_3'] = pd.to_datetime(delays['dep_time_3'])\n",
    "delays['arr_time_3'] = pd.to_datetime(delays['arr_time_3'])"
   ]
  },
  {
   "cell_type": "code",
   "execution_count": 1423,
   "metadata": {},
   "outputs": [
    {
     "data": {
      "text/plain": [
       "fl_date                        object\n",
       "crs_dep_time                   object\n",
       "dep_time                       object\n",
       "actual_elapsed_time           float64\n",
       "crs_arr_time                   object\n",
       "arr_time                       object\n",
       "dep_time_h                     object\n",
       "dep_time_m                     object\n",
       "arr_time_h                     object\n",
       "arr_time_m                     object\n",
       "crs_dep_time_h                 object\n",
       "crs_dep_time_m                 object\n",
       "crs_arr_time_h                 object\n",
       "crs_arr_time_m                 object\n",
       "crs_dep_time_hour              object\n",
       "crs_dep_time_min               object\n",
       "crs_arr_time_hour              object\n",
       "crs_arr_time_min               object\n",
       "dep_time_hour                  object\n",
       "dep_time_min                   object\n",
       "arr_time_hour                  object\n",
       "arr_time_min                   object\n",
       "crs_dep_time_2                 object\n",
       "crs_arr_time_2                 object\n",
       "dep_time_2                     object\n",
       "arr_time_2                     object\n",
       "dep_next_day                    int64\n",
       "arr_next_day                    int64\n",
       "crs_dep_time_3         datetime64[ns]\n",
       "crs_arr_time_3         datetime64[ns]\n",
       "dep_time_3             datetime64[ns]\n",
       "arr_time_3             datetime64[ns]\n",
       "dtype: object"
      ]
     },
     "execution_count": 1423,
     "metadata": {},
     "output_type": "execute_result"
    }
   ],
   "source": [
    "delays.dtypes"
   ]
  },
  {
   "cell_type": "code",
   "execution_count": 1424,
   "metadata": {},
   "outputs": [
    {
     "data": {
      "text/html": [
       "<div>\n",
       "<style scoped>\n",
       "    .dataframe tbody tr th:only-of-type {\n",
       "        vertical-align: middle;\n",
       "    }\n",
       "\n",
       "    .dataframe tbody tr th {\n",
       "        vertical-align: top;\n",
       "    }\n",
       "\n",
       "    .dataframe thead th {\n",
       "        text-align: right;\n",
       "    }\n",
       "</style>\n",
       "<table border=\"1\" class=\"dataframe\">\n",
       "  <thead>\n",
       "    <tr style=\"text-align: right;\">\n",
       "      <th></th>\n",
       "      <th>fl_date</th>\n",
       "      <th>crs_dep_time</th>\n",
       "      <th>dep_time</th>\n",
       "      <th>actual_elapsed_time</th>\n",
       "      <th>crs_arr_time</th>\n",
       "      <th>arr_time</th>\n",
       "      <th>dep_time_h</th>\n",
       "      <th>dep_time_m</th>\n",
       "      <th>arr_time_h</th>\n",
       "      <th>arr_time_m</th>\n",
       "      <th>...</th>\n",
       "      <th>crs_dep_time_2</th>\n",
       "      <th>crs_arr_time_2</th>\n",
       "      <th>dep_time_2</th>\n",
       "      <th>arr_time_2</th>\n",
       "      <th>dep_next_day</th>\n",
       "      <th>arr_next_day</th>\n",
       "      <th>crs_dep_time_3</th>\n",
       "      <th>crs_arr_time_3</th>\n",
       "      <th>dep_time_3</th>\n",
       "      <th>arr_time_3</th>\n",
       "    </tr>\n",
       "  </thead>\n",
       "  <tbody>\n",
       "    <tr>\n",
       "      <th>0</th>\n",
       "      <td>2019-12-07</td>\n",
       "      <td>1550</td>\n",
       "      <td>1545</td>\n",
       "      <td>63.0</td>\n",
       "      <td>1655</td>\n",
       "      <td>1648</td>\n",
       "      <td>15</td>\n",
       "      <td>45</td>\n",
       "      <td>16</td>\n",
       "      <td>48</td>\n",
       "      <td>...</td>\n",
       "      <td>15:50</td>\n",
       "      <td>16:55</td>\n",
       "      <td>15:45</td>\n",
       "      <td>16:48</td>\n",
       "      <td>0</td>\n",
       "      <td>0</td>\n",
       "      <td>2019-12-07 15:50:00</td>\n",
       "      <td>2019-12-07 16:55:00</td>\n",
       "      <td>2019-12-07 15:45:00</td>\n",
       "      <td>2019-12-07 16:48:00</td>\n",
       "    </tr>\n",
       "    <tr>\n",
       "      <th>1</th>\n",
       "      <td>2019-04-06</td>\n",
       "      <td>0835</td>\n",
       "      <td>0829</td>\n",
       "      <td>309.0</td>\n",
       "      <td>1153</td>\n",
       "      <td>1238</td>\n",
       "      <td>08</td>\n",
       "      <td>29</td>\n",
       "      <td>12</td>\n",
       "      <td>38</td>\n",
       "      <td>...</td>\n",
       "      <td>08:35</td>\n",
       "      <td>11:53</td>\n",
       "      <td>08:29</td>\n",
       "      <td>12:38</td>\n",
       "      <td>0</td>\n",
       "      <td>0</td>\n",
       "      <td>2019-04-06 08:35:00</td>\n",
       "      <td>2019-04-06 11:53:00</td>\n",
       "      <td>2019-04-06 08:29:00</td>\n",
       "      <td>2019-04-06 12:38:00</td>\n",
       "    </tr>\n",
       "    <tr>\n",
       "      <th>2</th>\n",
       "      <td>2019-07-12</td>\n",
       "      <td>1925</td>\n",
       "      <td>1918</td>\n",
       "      <td>370.0</td>\n",
       "      <td>2235</td>\n",
       "      <td>2228</td>\n",
       "      <td>19</td>\n",
       "      <td>18</td>\n",
       "      <td>22</td>\n",
       "      <td>28</td>\n",
       "      <td>...</td>\n",
       "      <td>19:25</td>\n",
       "      <td>22:35</td>\n",
       "      <td>19:18</td>\n",
       "      <td>22:28</td>\n",
       "      <td>0</td>\n",
       "      <td>0</td>\n",
       "      <td>2019-07-12 19:25:00</td>\n",
       "      <td>2019-07-12 22:35:00</td>\n",
       "      <td>2019-07-12 19:18:00</td>\n",
       "      <td>2019-07-12 22:28:00</td>\n",
       "    </tr>\n",
       "    <tr>\n",
       "      <th>3</th>\n",
       "      <td>2019-08-23</td>\n",
       "      <td>1802</td>\n",
       "      <td>1821</td>\n",
       "      <td>215.0</td>\n",
       "      <td>1948</td>\n",
       "      <td>1956</td>\n",
       "      <td>18</td>\n",
       "      <td>21</td>\n",
       "      <td>19</td>\n",
       "      <td>56</td>\n",
       "      <td>...</td>\n",
       "      <td>18:02</td>\n",
       "      <td>19:48</td>\n",
       "      <td>18:21</td>\n",
       "      <td>19:56</td>\n",
       "      <td>0</td>\n",
       "      <td>0</td>\n",
       "      <td>2019-08-23 18:02:00</td>\n",
       "      <td>2019-08-23 19:48:00</td>\n",
       "      <td>2019-08-23 18:21:00</td>\n",
       "      <td>2019-08-23 19:56:00</td>\n",
       "    </tr>\n",
       "    <tr>\n",
       "      <th>4</th>\n",
       "      <td>2019-11-26</td>\n",
       "      <td>1315</td>\n",
       "      <td>1312</td>\n",
       "      <td>110.0</td>\n",
       "      <td>1603</td>\n",
       "      <td>1602</td>\n",
       "      <td>13</td>\n",
       "      <td>12</td>\n",
       "      <td>16</td>\n",
       "      <td>02</td>\n",
       "      <td>...</td>\n",
       "      <td>13:15</td>\n",
       "      <td>16:03</td>\n",
       "      <td>13:12</td>\n",
       "      <td>16:02</td>\n",
       "      <td>0</td>\n",
       "      <td>0</td>\n",
       "      <td>2019-11-26 13:15:00</td>\n",
       "      <td>2019-11-26 16:03:00</td>\n",
       "      <td>2019-11-26 13:12:00</td>\n",
       "      <td>2019-11-26 16:02:00</td>\n",
       "    </tr>\n",
       "    <tr>\n",
       "      <th>...</th>\n",
       "      <td>...</td>\n",
       "      <td>...</td>\n",
       "      <td>...</td>\n",
       "      <td>...</td>\n",
       "      <td>...</td>\n",
       "      <td>...</td>\n",
       "      <td>...</td>\n",
       "      <td>...</td>\n",
       "      <td>...</td>\n",
       "      <td>...</td>\n",
       "      <td>...</td>\n",
       "      <td>...</td>\n",
       "      <td>...</td>\n",
       "      <td>...</td>\n",
       "      <td>...</td>\n",
       "      <td>...</td>\n",
       "      <td>...</td>\n",
       "      <td>...</td>\n",
       "      <td>...</td>\n",
       "      <td>...</td>\n",
       "      <td>...</td>\n",
       "    </tr>\n",
       "    <tr>\n",
       "      <th>9995</th>\n",
       "      <td>2018-10-31</td>\n",
       "      <td>1645</td>\n",
       "      <td>2016</td>\n",
       "      <td>99.0</td>\n",
       "      <td>1826</td>\n",
       "      <td>2155</td>\n",
       "      <td>20</td>\n",
       "      <td>16</td>\n",
       "      <td>21</td>\n",
       "      <td>55</td>\n",
       "      <td>...</td>\n",
       "      <td>16:45</td>\n",
       "      <td>18:26</td>\n",
       "      <td>20:16</td>\n",
       "      <td>21:55</td>\n",
       "      <td>0</td>\n",
       "      <td>0</td>\n",
       "      <td>2018-10-31 16:45:00</td>\n",
       "      <td>2018-10-31 18:26:00</td>\n",
       "      <td>2018-10-31 20:16:00</td>\n",
       "      <td>2018-10-31 21:55:00</td>\n",
       "    </tr>\n",
       "    <tr>\n",
       "      <th>9996</th>\n",
       "      <td>2019-07-14</td>\n",
       "      <td>0805</td>\n",
       "      <td>0800</td>\n",
       "      <td>78.0</td>\n",
       "      <td>0930</td>\n",
       "      <td>0918</td>\n",
       "      <td>08</td>\n",
       "      <td>00</td>\n",
       "      <td>09</td>\n",
       "      <td>18</td>\n",
       "      <td>...</td>\n",
       "      <td>08:05</td>\n",
       "      <td>09:30</td>\n",
       "      <td>08:00</td>\n",
       "      <td>09:18</td>\n",
       "      <td>0</td>\n",
       "      <td>0</td>\n",
       "      <td>2019-07-14 08:05:00</td>\n",
       "      <td>2019-07-14 09:30:00</td>\n",
       "      <td>2019-07-14 08:00:00</td>\n",
       "      <td>2019-07-14 09:18:00</td>\n",
       "    </tr>\n",
       "    <tr>\n",
       "      <th>9997</th>\n",
       "      <td>2019-10-09</td>\n",
       "      <td>1650</td>\n",
       "      <td>1646</td>\n",
       "      <td>139.0</td>\n",
       "      <td>1846</td>\n",
       "      <td>1805</td>\n",
       "      <td>16</td>\n",
       "      <td>46</td>\n",
       "      <td>18</td>\n",
       "      <td>05</td>\n",
       "      <td>...</td>\n",
       "      <td>16:50</td>\n",
       "      <td>18:46</td>\n",
       "      <td>16:46</td>\n",
       "      <td>18:05</td>\n",
       "      <td>0</td>\n",
       "      <td>0</td>\n",
       "      <td>2019-10-09 16:50:00</td>\n",
       "      <td>2019-10-09 18:46:00</td>\n",
       "      <td>2019-10-09 16:46:00</td>\n",
       "      <td>2019-10-09 18:05:00</td>\n",
       "    </tr>\n",
       "    <tr>\n",
       "      <th>9998</th>\n",
       "      <td>2019-09-04</td>\n",
       "      <td>1855</td>\n",
       "      <td>1856</td>\n",
       "      <td>222.0</td>\n",
       "      <td>0040</td>\n",
       "      <td>0038</td>\n",
       "      <td>18</td>\n",
       "      <td>56</td>\n",
       "      <td>00</td>\n",
       "      <td>38</td>\n",
       "      <td>...</td>\n",
       "      <td>18:55</td>\n",
       "      <td>00:40</td>\n",
       "      <td>18:56</td>\n",
       "      <td>00:38</td>\n",
       "      <td>0</td>\n",
       "      <td>0</td>\n",
       "      <td>2019-09-04 18:55:00</td>\n",
       "      <td>2019-09-04 00:40:00</td>\n",
       "      <td>2019-09-04 18:56:00</td>\n",
       "      <td>2019-09-04 00:38:00</td>\n",
       "    </tr>\n",
       "    <tr>\n",
       "      <th>9999</th>\n",
       "      <td>2018-10-31</td>\n",
       "      <td>1119</td>\n",
       "      <td>1113</td>\n",
       "      <td>46.0</td>\n",
       "      <td>1155</td>\n",
       "      <td>1159</td>\n",
       "      <td>11</td>\n",
       "      <td>13</td>\n",
       "      <td>11</td>\n",
       "      <td>59</td>\n",
       "      <td>...</td>\n",
       "      <td>11:19</td>\n",
       "      <td>11:55</td>\n",
       "      <td>11:13</td>\n",
       "      <td>11:59</td>\n",
       "      <td>0</td>\n",
       "      <td>0</td>\n",
       "      <td>2018-10-31 11:19:00</td>\n",
       "      <td>2018-10-31 11:55:00</td>\n",
       "      <td>2018-10-31 11:13:00</td>\n",
       "      <td>2018-10-31 11:59:00</td>\n",
       "    </tr>\n",
       "  </tbody>\n",
       "</table>\n",
       "<p>9815 rows × 32 columns</p>\n",
       "</div>"
      ],
      "text/plain": [
       "         fl_date crs_dep_time dep_time  actual_elapsed_time crs_arr_time  \\\n",
       "0     2019-12-07         1550     1545                 63.0         1655   \n",
       "1     2019-04-06         0835     0829                309.0         1153   \n",
       "2     2019-07-12         1925     1918                370.0         2235   \n",
       "3     2019-08-23         1802     1821                215.0         1948   \n",
       "4     2019-11-26         1315     1312                110.0         1603   \n",
       "...          ...          ...      ...                  ...          ...   \n",
       "9995  2018-10-31         1645     2016                 99.0         1826   \n",
       "9996  2019-07-14         0805     0800                 78.0         0930   \n",
       "9997  2019-10-09         1650     1646                139.0         1846   \n",
       "9998  2019-09-04         1855     1856                222.0         0040   \n",
       "9999  2018-10-31         1119     1113                 46.0         1155   \n",
       "\n",
       "     arr_time dep_time_h dep_time_m arr_time_h arr_time_m  ... crs_dep_time_2  \\\n",
       "0        1648         15         45         16         48  ...          15:50   \n",
       "1        1238         08         29         12         38  ...          08:35   \n",
       "2        2228         19         18         22         28  ...          19:25   \n",
       "3        1956         18         21         19         56  ...          18:02   \n",
       "4        1602         13         12         16         02  ...          13:15   \n",
       "...       ...        ...        ...        ...        ...  ...            ...   \n",
       "9995     2155         20         16         21         55  ...          16:45   \n",
       "9996     0918         08         00         09         18  ...          08:05   \n",
       "9997     1805         16         46         18         05  ...          16:50   \n",
       "9998     0038         18         56         00         38  ...          18:55   \n",
       "9999     1159         11         13         11         59  ...          11:19   \n",
       "\n",
       "     crs_arr_time_2 dep_time_2 arr_time_2 dep_next_day arr_next_day  \\\n",
       "0             16:55      15:45      16:48            0            0   \n",
       "1             11:53      08:29      12:38            0            0   \n",
       "2             22:35      19:18      22:28            0            0   \n",
       "3             19:48      18:21      19:56            0            0   \n",
       "4             16:03      13:12      16:02            0            0   \n",
       "...             ...        ...        ...          ...          ...   \n",
       "9995          18:26      20:16      21:55            0            0   \n",
       "9996          09:30      08:00      09:18            0            0   \n",
       "9997          18:46      16:46      18:05            0            0   \n",
       "9998          00:40      18:56      00:38            0            0   \n",
       "9999          11:55      11:13      11:59            0            0   \n",
       "\n",
       "          crs_dep_time_3      crs_arr_time_3          dep_time_3  \\\n",
       "0    2019-12-07 15:50:00 2019-12-07 16:55:00 2019-12-07 15:45:00   \n",
       "1    2019-04-06 08:35:00 2019-04-06 11:53:00 2019-04-06 08:29:00   \n",
       "2    2019-07-12 19:25:00 2019-07-12 22:35:00 2019-07-12 19:18:00   \n",
       "3    2019-08-23 18:02:00 2019-08-23 19:48:00 2019-08-23 18:21:00   \n",
       "4    2019-11-26 13:15:00 2019-11-26 16:03:00 2019-11-26 13:12:00   \n",
       "...                  ...                 ...                 ...   \n",
       "9995 2018-10-31 16:45:00 2018-10-31 18:26:00 2018-10-31 20:16:00   \n",
       "9996 2019-07-14 08:05:00 2019-07-14 09:30:00 2019-07-14 08:00:00   \n",
       "9997 2019-10-09 16:50:00 2019-10-09 18:46:00 2019-10-09 16:46:00   \n",
       "9998 2019-09-04 18:55:00 2019-09-04 00:40:00 2019-09-04 18:56:00   \n",
       "9999 2018-10-31 11:19:00 2018-10-31 11:55:00 2018-10-31 11:13:00   \n",
       "\n",
       "              arr_time_3  \n",
       "0    2019-12-07 16:48:00  \n",
       "1    2019-04-06 12:38:00  \n",
       "2    2019-07-12 22:28:00  \n",
       "3    2019-08-23 19:56:00  \n",
       "4    2019-11-26 16:02:00  \n",
       "...                  ...  \n",
       "9995 2018-10-31 21:55:00  \n",
       "9996 2019-07-14 09:18:00  \n",
       "9997 2019-10-09 18:05:00  \n",
       "9998 2019-09-04 00:38:00  \n",
       "9999 2018-10-31 11:59:00  \n",
       "\n",
       "[9815 rows x 32 columns]"
      ]
     },
     "execution_count": 1424,
     "metadata": {},
     "output_type": "execute_result"
    }
   ],
   "source": [
    "delays"
   ]
  },
  {
   "cell_type": "code",
   "execution_count": null,
   "metadata": {},
   "outputs": [],
   "source": []
  },
  {
   "cell_type": "code",
   "execution_count": null,
   "metadata": {},
   "outputs": [],
   "source": []
  },
  {
   "cell_type": "code",
   "execution_count": null,
   "metadata": {},
   "outputs": [],
   "source": []
  },
  {
   "cell_type": "code",
   "execution_count": 1425,
   "metadata": {},
   "outputs": [],
   "source": [
    "delays['dep_next_day'] = pd.to_timedelta(delays['dep_next_day'], unit='day')\n",
    "delays['arr_next_day'] = pd.to_timedelta(delays['arr_next_day'], unit='day')"
   ]
  },
  {
   "cell_type": "code",
   "execution_count": 1426,
   "metadata": {},
   "outputs": [
    {
     "data": {
      "text/plain": [
       "fl_date                         object\n",
       "crs_dep_time                    object\n",
       "dep_time                        object\n",
       "actual_elapsed_time            float64\n",
       "crs_arr_time                    object\n",
       "arr_time                        object\n",
       "dep_time_h                      object\n",
       "dep_time_m                      object\n",
       "arr_time_h                      object\n",
       "arr_time_m                      object\n",
       "crs_dep_time_h                  object\n",
       "crs_dep_time_m                  object\n",
       "crs_arr_time_h                  object\n",
       "crs_arr_time_m                  object\n",
       "crs_dep_time_hour               object\n",
       "crs_dep_time_min                object\n",
       "crs_arr_time_hour               object\n",
       "crs_arr_time_min                object\n",
       "dep_time_hour                   object\n",
       "dep_time_min                    object\n",
       "arr_time_hour                   object\n",
       "arr_time_min                    object\n",
       "crs_dep_time_2                  object\n",
       "crs_arr_time_2                  object\n",
       "dep_time_2                      object\n",
       "arr_time_2                      object\n",
       "dep_next_day           timedelta64[ns]\n",
       "arr_next_day           timedelta64[ns]\n",
       "crs_dep_time_3          datetime64[ns]\n",
       "crs_arr_time_3          datetime64[ns]\n",
       "dep_time_3              datetime64[ns]\n",
       "arr_time_3              datetime64[ns]\n",
       "dtype: object"
      ]
     },
     "execution_count": 1426,
     "metadata": {},
     "output_type": "execute_result"
    }
   ],
   "source": [
    "delays.dtypes"
   ]
  },
  {
   "cell_type": "code",
   "execution_count": null,
   "metadata": {},
   "outputs": [],
   "source": []
  },
  {
   "cell_type": "code",
   "execution_count": null,
   "metadata": {},
   "outputs": [],
   "source": []
  },
  {
   "cell_type": "code",
   "execution_count": 1427,
   "metadata": {},
   "outputs": [],
   "source": [
    "delays['dep_time_3'] = delays['dep_time_3']+delays['dep_next_day']\n",
    "delays['arr_time_3'] = delays['arr_time_3']+delays['arr_next_day']"
   ]
  },
  {
   "cell_type": "code",
   "execution_count": null,
   "metadata": {},
   "outputs": [],
   "source": []
  },
  {
   "cell_type": "code",
   "execution_count": 1435,
   "metadata": {},
   "outputs": [],
   "source": [
    "delays['dep_delay'] = delays['dep_time_3'] - delays['crs_dep_time_3']\n",
    "delays['arr_delay'] = delays['arr_time_3'] - delays['crs_arr_time_3']"
   ]
  },
  {
   "cell_type": "code",
   "execution_count": null,
   "metadata": {},
   "outputs": [],
   "source": []
  },
  {
   "cell_type": "code",
   "execution_count": null,
   "metadata": {},
   "outputs": [],
   "source": []
  },
  {
   "cell_type": "code",
   "execution_count": 1436,
   "metadata": {},
   "outputs": [],
   "source": [
    "delays['dep_delay'] = delays['dep_delay'].apply(lambda x: x.total_seconds()/60)\n",
    "delays['arr_delay'] = delays['arr_delay'].apply(lambda x: x.total_seconds()/60)"
   ]
  },
  {
   "cell_type": "code",
   "execution_count": 1437,
   "metadata": {},
   "outputs": [
    {
     "data": {
      "text/html": [
       "<div>\n",
       "<style scoped>\n",
       "    .dataframe tbody tr th:only-of-type {\n",
       "        vertical-align: middle;\n",
       "    }\n",
       "\n",
       "    .dataframe tbody tr th {\n",
       "        vertical-align: top;\n",
       "    }\n",
       "\n",
       "    .dataframe thead th {\n",
       "        text-align: right;\n",
       "    }\n",
       "</style>\n",
       "<table border=\"1\" class=\"dataframe\">\n",
       "  <thead>\n",
       "    <tr style=\"text-align: right;\">\n",
       "      <th></th>\n",
       "      <th>fl_date</th>\n",
       "      <th>crs_dep_time</th>\n",
       "      <th>dep_time</th>\n",
       "      <th>actual_elapsed_time</th>\n",
       "      <th>crs_arr_time</th>\n",
       "      <th>arr_time</th>\n",
       "      <th>dep_time_h</th>\n",
       "      <th>dep_time_m</th>\n",
       "      <th>arr_time_h</th>\n",
       "      <th>arr_time_m</th>\n",
       "      <th>...</th>\n",
       "      <th>dep_time_2</th>\n",
       "      <th>arr_time_2</th>\n",
       "      <th>dep_next_day</th>\n",
       "      <th>arr_next_day</th>\n",
       "      <th>crs_dep_time_3</th>\n",
       "      <th>crs_arr_time_3</th>\n",
       "      <th>dep_time_3</th>\n",
       "      <th>arr_time_3</th>\n",
       "      <th>dep_delay</th>\n",
       "      <th>arr_delay</th>\n",
       "    </tr>\n",
       "  </thead>\n",
       "  <tbody>\n",
       "    <tr>\n",
       "      <th>0</th>\n",
       "      <td>2019-12-07</td>\n",
       "      <td>1550</td>\n",
       "      <td>1545</td>\n",
       "      <td>63.0</td>\n",
       "      <td>1655</td>\n",
       "      <td>1648</td>\n",
       "      <td>15</td>\n",
       "      <td>45</td>\n",
       "      <td>16</td>\n",
       "      <td>48</td>\n",
       "      <td>...</td>\n",
       "      <td>15:45</td>\n",
       "      <td>16:48</td>\n",
       "      <td>0 days</td>\n",
       "      <td>0 days</td>\n",
       "      <td>2019-12-07 15:50:00</td>\n",
       "      <td>2019-12-07 16:55:00</td>\n",
       "      <td>2019-12-07 15:45:00</td>\n",
       "      <td>2019-12-07 16:48:00</td>\n",
       "      <td>-5.0</td>\n",
       "      <td>-7.0</td>\n",
       "    </tr>\n",
       "    <tr>\n",
       "      <th>1</th>\n",
       "      <td>2019-04-06</td>\n",
       "      <td>0835</td>\n",
       "      <td>0829</td>\n",
       "      <td>309.0</td>\n",
       "      <td>1153</td>\n",
       "      <td>1238</td>\n",
       "      <td>08</td>\n",
       "      <td>29</td>\n",
       "      <td>12</td>\n",
       "      <td>38</td>\n",
       "      <td>...</td>\n",
       "      <td>08:29</td>\n",
       "      <td>12:38</td>\n",
       "      <td>0 days</td>\n",
       "      <td>0 days</td>\n",
       "      <td>2019-04-06 08:35:00</td>\n",
       "      <td>2019-04-06 11:53:00</td>\n",
       "      <td>2019-04-06 08:29:00</td>\n",
       "      <td>2019-04-06 12:38:00</td>\n",
       "      <td>-6.0</td>\n",
       "      <td>45.0</td>\n",
       "    </tr>\n",
       "    <tr>\n",
       "      <th>2</th>\n",
       "      <td>2019-07-12</td>\n",
       "      <td>1925</td>\n",
       "      <td>1918</td>\n",
       "      <td>370.0</td>\n",
       "      <td>2235</td>\n",
       "      <td>2228</td>\n",
       "      <td>19</td>\n",
       "      <td>18</td>\n",
       "      <td>22</td>\n",
       "      <td>28</td>\n",
       "      <td>...</td>\n",
       "      <td>19:18</td>\n",
       "      <td>22:28</td>\n",
       "      <td>0 days</td>\n",
       "      <td>0 days</td>\n",
       "      <td>2019-07-12 19:25:00</td>\n",
       "      <td>2019-07-12 22:35:00</td>\n",
       "      <td>2019-07-12 19:18:00</td>\n",
       "      <td>2019-07-12 22:28:00</td>\n",
       "      <td>-7.0</td>\n",
       "      <td>-7.0</td>\n",
       "    </tr>\n",
       "    <tr>\n",
       "      <th>3</th>\n",
       "      <td>2019-08-23</td>\n",
       "      <td>1802</td>\n",
       "      <td>1821</td>\n",
       "      <td>215.0</td>\n",
       "      <td>1948</td>\n",
       "      <td>1956</td>\n",
       "      <td>18</td>\n",
       "      <td>21</td>\n",
       "      <td>19</td>\n",
       "      <td>56</td>\n",
       "      <td>...</td>\n",
       "      <td>18:21</td>\n",
       "      <td>19:56</td>\n",
       "      <td>0 days</td>\n",
       "      <td>0 days</td>\n",
       "      <td>2019-08-23 18:02:00</td>\n",
       "      <td>2019-08-23 19:48:00</td>\n",
       "      <td>2019-08-23 18:21:00</td>\n",
       "      <td>2019-08-23 19:56:00</td>\n",
       "      <td>19.0</td>\n",
       "      <td>8.0</td>\n",
       "    </tr>\n",
       "    <tr>\n",
       "      <th>4</th>\n",
       "      <td>2019-11-26</td>\n",
       "      <td>1315</td>\n",
       "      <td>1312</td>\n",
       "      <td>110.0</td>\n",
       "      <td>1603</td>\n",
       "      <td>1602</td>\n",
       "      <td>13</td>\n",
       "      <td>12</td>\n",
       "      <td>16</td>\n",
       "      <td>02</td>\n",
       "      <td>...</td>\n",
       "      <td>13:12</td>\n",
       "      <td>16:02</td>\n",
       "      <td>0 days</td>\n",
       "      <td>0 days</td>\n",
       "      <td>2019-11-26 13:15:00</td>\n",
       "      <td>2019-11-26 16:03:00</td>\n",
       "      <td>2019-11-26 13:12:00</td>\n",
       "      <td>2019-11-26 16:02:00</td>\n",
       "      <td>-3.0</td>\n",
       "      <td>-1.0</td>\n",
       "    </tr>\n",
       "    <tr>\n",
       "      <th>...</th>\n",
       "      <td>...</td>\n",
       "      <td>...</td>\n",
       "      <td>...</td>\n",
       "      <td>...</td>\n",
       "      <td>...</td>\n",
       "      <td>...</td>\n",
       "      <td>...</td>\n",
       "      <td>...</td>\n",
       "      <td>...</td>\n",
       "      <td>...</td>\n",
       "      <td>...</td>\n",
       "      <td>...</td>\n",
       "      <td>...</td>\n",
       "      <td>...</td>\n",
       "      <td>...</td>\n",
       "      <td>...</td>\n",
       "      <td>...</td>\n",
       "      <td>...</td>\n",
       "      <td>...</td>\n",
       "      <td>...</td>\n",
       "      <td>...</td>\n",
       "    </tr>\n",
       "    <tr>\n",
       "      <th>9995</th>\n",
       "      <td>2018-10-31</td>\n",
       "      <td>1645</td>\n",
       "      <td>2016</td>\n",
       "      <td>99.0</td>\n",
       "      <td>1826</td>\n",
       "      <td>2155</td>\n",
       "      <td>20</td>\n",
       "      <td>16</td>\n",
       "      <td>21</td>\n",
       "      <td>55</td>\n",
       "      <td>...</td>\n",
       "      <td>20:16</td>\n",
       "      <td>21:55</td>\n",
       "      <td>0 days</td>\n",
       "      <td>0 days</td>\n",
       "      <td>2018-10-31 16:45:00</td>\n",
       "      <td>2018-10-31 18:26:00</td>\n",
       "      <td>2018-10-31 20:16:00</td>\n",
       "      <td>2018-10-31 21:55:00</td>\n",
       "      <td>211.0</td>\n",
       "      <td>209.0</td>\n",
       "    </tr>\n",
       "    <tr>\n",
       "      <th>9996</th>\n",
       "      <td>2019-07-14</td>\n",
       "      <td>0805</td>\n",
       "      <td>0800</td>\n",
       "      <td>78.0</td>\n",
       "      <td>0930</td>\n",
       "      <td>0918</td>\n",
       "      <td>08</td>\n",
       "      <td>00</td>\n",
       "      <td>09</td>\n",
       "      <td>18</td>\n",
       "      <td>...</td>\n",
       "      <td>08:00</td>\n",
       "      <td>09:18</td>\n",
       "      <td>0 days</td>\n",
       "      <td>0 days</td>\n",
       "      <td>2019-07-14 08:05:00</td>\n",
       "      <td>2019-07-14 09:30:00</td>\n",
       "      <td>2019-07-14 08:00:00</td>\n",
       "      <td>2019-07-14 09:18:00</td>\n",
       "      <td>-5.0</td>\n",
       "      <td>-12.0</td>\n",
       "    </tr>\n",
       "    <tr>\n",
       "      <th>9997</th>\n",
       "      <td>2019-10-09</td>\n",
       "      <td>1650</td>\n",
       "      <td>1646</td>\n",
       "      <td>139.0</td>\n",
       "      <td>1846</td>\n",
       "      <td>1805</td>\n",
       "      <td>16</td>\n",
       "      <td>46</td>\n",
       "      <td>18</td>\n",
       "      <td>05</td>\n",
       "      <td>...</td>\n",
       "      <td>16:46</td>\n",
       "      <td>18:05</td>\n",
       "      <td>0 days</td>\n",
       "      <td>0 days</td>\n",
       "      <td>2019-10-09 16:50:00</td>\n",
       "      <td>2019-10-09 18:46:00</td>\n",
       "      <td>2019-10-09 16:46:00</td>\n",
       "      <td>2019-10-09 18:05:00</td>\n",
       "      <td>-4.0</td>\n",
       "      <td>-41.0</td>\n",
       "    </tr>\n",
       "    <tr>\n",
       "      <th>9998</th>\n",
       "      <td>2019-09-04</td>\n",
       "      <td>1855</td>\n",
       "      <td>1856</td>\n",
       "      <td>222.0</td>\n",
       "      <td>0040</td>\n",
       "      <td>0038</td>\n",
       "      <td>18</td>\n",
       "      <td>56</td>\n",
       "      <td>00</td>\n",
       "      <td>38</td>\n",
       "      <td>...</td>\n",
       "      <td>18:56</td>\n",
       "      <td>00:38</td>\n",
       "      <td>0 days</td>\n",
       "      <td>0 days</td>\n",
       "      <td>2019-09-04 18:55:00</td>\n",
       "      <td>2019-09-04 00:40:00</td>\n",
       "      <td>2019-09-04 18:56:00</td>\n",
       "      <td>2019-09-04 00:38:00</td>\n",
       "      <td>1.0</td>\n",
       "      <td>-2.0</td>\n",
       "    </tr>\n",
       "    <tr>\n",
       "      <th>9999</th>\n",
       "      <td>2018-10-31</td>\n",
       "      <td>1119</td>\n",
       "      <td>1113</td>\n",
       "      <td>46.0</td>\n",
       "      <td>1155</td>\n",
       "      <td>1159</td>\n",
       "      <td>11</td>\n",
       "      <td>13</td>\n",
       "      <td>11</td>\n",
       "      <td>59</td>\n",
       "      <td>...</td>\n",
       "      <td>11:13</td>\n",
       "      <td>11:59</td>\n",
       "      <td>0 days</td>\n",
       "      <td>0 days</td>\n",
       "      <td>2018-10-31 11:19:00</td>\n",
       "      <td>2018-10-31 11:55:00</td>\n",
       "      <td>2018-10-31 11:13:00</td>\n",
       "      <td>2018-10-31 11:59:00</td>\n",
       "      <td>-6.0</td>\n",
       "      <td>4.0</td>\n",
       "    </tr>\n",
       "  </tbody>\n",
       "</table>\n",
       "<p>9815 rows × 34 columns</p>\n",
       "</div>"
      ],
      "text/plain": [
       "         fl_date crs_dep_time dep_time  actual_elapsed_time crs_arr_time  \\\n",
       "0     2019-12-07         1550     1545                 63.0         1655   \n",
       "1     2019-04-06         0835     0829                309.0         1153   \n",
       "2     2019-07-12         1925     1918                370.0         2235   \n",
       "3     2019-08-23         1802     1821                215.0         1948   \n",
       "4     2019-11-26         1315     1312                110.0         1603   \n",
       "...          ...          ...      ...                  ...          ...   \n",
       "9995  2018-10-31         1645     2016                 99.0         1826   \n",
       "9996  2019-07-14         0805     0800                 78.0         0930   \n",
       "9997  2019-10-09         1650     1646                139.0         1846   \n",
       "9998  2019-09-04         1855     1856                222.0         0040   \n",
       "9999  2018-10-31         1119     1113                 46.0         1155   \n",
       "\n",
       "     arr_time dep_time_h dep_time_m arr_time_h arr_time_m  ... dep_time_2  \\\n",
       "0        1648         15         45         16         48  ...      15:45   \n",
       "1        1238         08         29         12         38  ...      08:29   \n",
       "2        2228         19         18         22         28  ...      19:18   \n",
       "3        1956         18         21         19         56  ...      18:21   \n",
       "4        1602         13         12         16         02  ...      13:12   \n",
       "...       ...        ...        ...        ...        ...  ...        ...   \n",
       "9995     2155         20         16         21         55  ...      20:16   \n",
       "9996     0918         08         00         09         18  ...      08:00   \n",
       "9997     1805         16         46         18         05  ...      16:46   \n",
       "9998     0038         18         56         00         38  ...      18:56   \n",
       "9999     1159         11         13         11         59  ...      11:13   \n",
       "\n",
       "     arr_time_2 dep_next_day arr_next_day      crs_dep_time_3  \\\n",
       "0         16:48       0 days       0 days 2019-12-07 15:50:00   \n",
       "1         12:38       0 days       0 days 2019-04-06 08:35:00   \n",
       "2         22:28       0 days       0 days 2019-07-12 19:25:00   \n",
       "3         19:56       0 days       0 days 2019-08-23 18:02:00   \n",
       "4         16:02       0 days       0 days 2019-11-26 13:15:00   \n",
       "...         ...          ...          ...                 ...   \n",
       "9995      21:55       0 days       0 days 2018-10-31 16:45:00   \n",
       "9996      09:18       0 days       0 days 2019-07-14 08:05:00   \n",
       "9997      18:05       0 days       0 days 2019-10-09 16:50:00   \n",
       "9998      00:38       0 days       0 days 2019-09-04 18:55:00   \n",
       "9999      11:59       0 days       0 days 2018-10-31 11:19:00   \n",
       "\n",
       "          crs_arr_time_3          dep_time_3          arr_time_3 dep_delay  \\\n",
       "0    2019-12-07 16:55:00 2019-12-07 15:45:00 2019-12-07 16:48:00      -5.0   \n",
       "1    2019-04-06 11:53:00 2019-04-06 08:29:00 2019-04-06 12:38:00      -6.0   \n",
       "2    2019-07-12 22:35:00 2019-07-12 19:18:00 2019-07-12 22:28:00      -7.0   \n",
       "3    2019-08-23 19:48:00 2019-08-23 18:21:00 2019-08-23 19:56:00      19.0   \n",
       "4    2019-11-26 16:03:00 2019-11-26 13:12:00 2019-11-26 16:02:00      -3.0   \n",
       "...                  ...                 ...                 ...       ...   \n",
       "9995 2018-10-31 18:26:00 2018-10-31 20:16:00 2018-10-31 21:55:00     211.0   \n",
       "9996 2019-07-14 09:30:00 2019-07-14 08:00:00 2019-07-14 09:18:00      -5.0   \n",
       "9997 2019-10-09 18:46:00 2019-10-09 16:46:00 2019-10-09 18:05:00      -4.0   \n",
       "9998 2019-09-04 00:40:00 2019-09-04 18:56:00 2019-09-04 00:38:00       1.0   \n",
       "9999 2018-10-31 11:55:00 2018-10-31 11:13:00 2018-10-31 11:59:00      -6.0   \n",
       "\n",
       "     arr_delay  \n",
       "0         -7.0  \n",
       "1         45.0  \n",
       "2         -7.0  \n",
       "3          8.0  \n",
       "4         -1.0  \n",
       "...        ...  \n",
       "9995     209.0  \n",
       "9996     -12.0  \n",
       "9997     -41.0  \n",
       "9998      -2.0  \n",
       "9999       4.0  \n",
       "\n",
       "[9815 rows x 34 columns]"
      ]
     },
     "execution_count": 1437,
     "metadata": {},
     "output_type": "execute_result"
    }
   ],
   "source": [
    "delays"
   ]
  },
  {
   "cell_type": "code",
   "execution_count": 1431,
   "metadata": {},
   "outputs": [],
   "source": [
    "#secondsDelta = delays['dep_delay'][0].total_seconds()\n",
    "#secondsDelta"
   ]
  },
  {
   "cell_type": "code",
   "execution_count": 1432,
   "metadata": {},
   "outputs": [],
   "source": [
    "#delays['dep_delay'][0].total_seconds()"
   ]
  },
  {
   "cell_type": "code",
   "execution_count": 1433,
   "metadata": {},
   "outputs": [],
   "source": [
    "#minutesDelta = secondsDelta/60\n",
    "#minutesDelta"
   ]
  },
  {
   "cell_type": "code",
   "execution_count": 1441,
   "metadata": {},
   "outputs": [
    {
     "data": {
      "text/plain": [
       "342"
      ]
     },
     "execution_count": 1441,
     "metadata": {},
     "output_type": "execute_result"
    }
   ],
   "source": [
    "delays['arr_delay'].argmin()"
   ]
  },
  {
   "cell_type": "code",
   "execution_count": 1443,
   "metadata": {},
   "outputs": [
    {
     "data": {
      "text/plain": [
       "fl_date                         2018-02-06\n",
       "crs_dep_time                          1800\n",
       "dep_time                              1840\n",
       "actual_elapsed_time                    203\n",
       "crs_arr_time                          2355\n",
       "arr_time                              0003\n",
       "dep_time_h                              18\n",
       "dep_time_m                              40\n",
       "arr_time_h                              00\n",
       "arr_time_m                              03\n",
       "crs_dep_time_h                          18\n",
       "crs_dep_time_m                          00\n",
       "crs_arr_time_h                          23\n",
       "crs_arr_time_m                          55\n",
       "crs_dep_time_hour                       18\n",
       "crs_dep_time_min                        00\n",
       "crs_arr_time_hour                       23\n",
       "crs_arr_time_min                        55\n",
       "dep_time_hour                           18\n",
       "dep_time_min                            40\n",
       "arr_time_hour                           00\n",
       "arr_time_min                            03\n",
       "crs_dep_time_2                       18:00\n",
       "crs_arr_time_2                       23:55\n",
       "dep_time_2                           18:40\n",
       "arr_time_2                           00:03\n",
       "dep_next_day               0 days 00:00:00\n",
       "arr_next_day               0 days 00:00:00\n",
       "crs_dep_time_3         2018-02-06 18:00:00\n",
       "crs_arr_time_3         2018-02-06 23:55:00\n",
       "dep_time_3             2018-02-06 18:40:00\n",
       "arr_time_3             2018-02-06 00:03:00\n",
       "dep_delay                               40\n",
       "arr_delay                            -1432\n",
       "Name: 348, dtype: object"
      ]
     },
     "execution_count": 1443,
     "metadata": {},
     "output_type": "execute_result"
    }
   ],
   "source": [
    "delays.iloc[342, :]"
   ]
  },
  {
   "cell_type": "markdown",
   "metadata": {},
   "source": [
    "#### **Task 6**: How many states cover 50% of US air traffic? "
   ]
  },
  {
   "cell_type": "code",
   "execution_count": null,
   "metadata": {},
   "outputs": [],
   "source": []
  },
  {
   "cell_type": "code",
   "execution_count": null,
   "metadata": {},
   "outputs": [],
   "source": []
  },
  {
   "cell_type": "markdown",
   "metadata": {},
   "source": [
    "#### **Task 7**: Test the hypothesis whether planes fly faster when there is the departure delay? "
   ]
  },
  {
   "cell_type": "code",
   "execution_count": 1524,
   "metadata": {},
   "outputs": [],
   "source": [
    "df_delay = df[['dep_delay', 'arr_delay']]"
   ]
  },
  {
   "cell_type": "code",
   "execution_count": 1525,
   "metadata": {},
   "outputs": [
    {
     "data": {
      "text/html": [
       "<div>\n",
       "<style scoped>\n",
       "    .dataframe tbody tr th:only-of-type {\n",
       "        vertical-align: middle;\n",
       "    }\n",
       "\n",
       "    .dataframe tbody tr th {\n",
       "        vertical-align: top;\n",
       "    }\n",
       "\n",
       "    .dataframe thead th {\n",
       "        text-align: right;\n",
       "    }\n",
       "</style>\n",
       "<table border=\"1\" class=\"dataframe\">\n",
       "  <thead>\n",
       "    <tr style=\"text-align: right;\">\n",
       "      <th></th>\n",
       "      <th>dep_delay</th>\n",
       "      <th>arr_delay</th>\n",
       "    </tr>\n",
       "  </thead>\n",
       "  <tbody>\n",
       "    <tr>\n",
       "      <th>0</th>\n",
       "      <td>-5.0</td>\n",
       "      <td>-7.0</td>\n",
       "    </tr>\n",
       "    <tr>\n",
       "      <th>1</th>\n",
       "      <td>-6.0</td>\n",
       "      <td>45.0</td>\n",
       "    </tr>\n",
       "    <tr>\n",
       "      <th>2</th>\n",
       "      <td>-7.0</td>\n",
       "      <td>-7.0</td>\n",
       "    </tr>\n",
       "    <tr>\n",
       "      <th>3</th>\n",
       "      <td>19.0</td>\n",
       "      <td>8.0</td>\n",
       "    </tr>\n",
       "    <tr>\n",
       "      <th>4</th>\n",
       "      <td>-3.0</td>\n",
       "      <td>-1.0</td>\n",
       "    </tr>\n",
       "  </tbody>\n",
       "</table>\n",
       "</div>"
      ],
      "text/plain": [
       "   dep_delay  arr_delay\n",
       "0       -5.0       -7.0\n",
       "1       -6.0       45.0\n",
       "2       -7.0       -7.0\n",
       "3       19.0        8.0\n",
       "4       -3.0       -1.0"
      ]
     },
     "execution_count": 1525,
     "metadata": {},
     "output_type": "execute_result"
    }
   ],
   "source": [
    "df_delay.head()"
   ]
  },
  {
   "cell_type": "code",
   "execution_count": 1527,
   "metadata": {},
   "outputs": [
    {
     "name": "stderr",
     "output_type": "stream",
     "text": [
      "/Users/pavneetbajwa/opt/anaconda3/lib/python3.8/site-packages/seaborn/_decorators.py:36: FutureWarning: Pass the following variables as keyword args: x, y. From version 0.12, the only valid positional argument will be `data`, and passing other arguments without an explicit keyword will result in an error or misinterpretation.\n",
      "  warnings.warn(\n"
     ]
    },
    {
     "data": {
      "text/plain": [
       "Text(0, 0.5, 'arr_delay')"
      ]
     },
     "execution_count": 1527,
     "metadata": {},
     "output_type": "execute_result"
    },
    {
     "data": {
      "image/png": "[encoded data removed]",
      "text/plain": [
       "<Figure size 432x288 with 1 Axes>"
      ]
     },
     "metadata": {
      "needs_background": "light"
     },
     "output_type": "display_data"
    }
   ],
   "source": [
    "x_lim=[-200, 1400]\n",
    "y_lim=[-200, 1400]\n",
    "sns.scatterplot(x=df_delay['dep_delay'], y=df_delay['arr_delay'])\n",
    "sns.lineplot(x_lim, y_lim, color='red')\n",
    "plt.xlabel('dep_delay')\n",
    "plt.ylabel('arr_delay')"
   ]
  },
  {
   "cell_type": "markdown",
   "metadata": {},
   "source": [
    "Not really... arrival delays pretty closely match depature delays"
   ]
  },
  {
   "cell_type": "markdown",
   "metadata": {},
   "source": [
    "#### **Task 8**: When (which hour) do most 'LONG', 'SHORT', 'MEDIUM' haul flights take off?"
   ]
  },
  {
   "cell_type": "code",
   "execution_count": 1485,
   "metadata": {},
   "outputs": [],
   "source": [
    "df['crs_dep_time'] = df['crs_dep_time'].astype(int)\n",
    "df['crs_arr_time'] = df['crs_arr_time'].astype(int)\n",
    "df['crs_dep_time'] = df['crs_dep_time'].astype(str)\n",
    "df['crs_arr_time'] = df['crs_arr_time'].astype(str)\n",
    "\n",
    "# create departure hour and arrival hour columns\n",
    "df['crs_dep_time'] = df['crs_dep_time'].apply(lambda x: str(x).zfill(4))\n",
    "df['crs_arr_time'] = df['crs_arr_time'].apply(lambda x: str(x).zfill(4))\n",
    "df['dep_h'] = df['crs_dep_time'].str[0:2]\n",
    "df['arr_h'] = df['crs_arr_time'].str[0:2]\n",
    "df['dep_h'] = df['dep_h'].replace('24', '00')\n",
    "df['arr_h'] = df['arr_h'].replace('24', '00')"
   ]
  },
  {
   "cell_type": "code",
   "execution_count": 1486,
   "metadata": {},
   "outputs": [],
   "source": [
    "#short < 800\n",
    "#medium between 800-2200\n",
    "#long > 2200\n",
    "\n",
    "df_short = df[df['distance']<800]\n",
    "df_medium = df[(df['distance']>=800) & (df['distance']<2200)]\n",
    "df_long = df[df['distance']>2200]"
   ]
  },
  {
   "cell_type": "code",
   "execution_count": 1489,
   "metadata": {},
   "outputs": [],
   "source": [
    "short_flights_per_h = df_short.groupby('dep_h')['flights'].count()\n",
    "medium_flights_per_h = df_medium.groupby('dep_h')['flights'].count()\n",
    "long_flights_per_h = df_long.groupby('dep_h')['flights'].count()"
   ]
  },
  {
   "cell_type": "code",
   "execution_count": 1506,
   "metadata": {},
   "outputs": [
    {
     "data": {
      "text/plain": [
       "Text(0.5, 1.0, 'Number of short haul flights departing per hour')"
      ]
     },
     "execution_count": 1506,
     "metadata": {},
     "output_type": "execute_result"
    },
    {
     "data": {
      "image/png": "[encoded data removed]",
      "text/plain": [
       "<Figure size 432x288 with 1 Axes>"
      ]
     },
     "metadata": {
      "needs_background": "light"
     },
     "output_type": "display_data"
    }
   ],
   "source": [
    "sns.barplot(x=short_flights_per_h.index, y=short_flights_per_h.values)\n",
    "plt.xlabel('Depature hour')\n",
    "plt.ylabel('Number of short haul flights')\n",
    "plt.title('Number of short haul flights departing per hour')"
   ]
  },
  {
   "cell_type": "code",
   "execution_count": 1508,
   "metadata": {},
   "outputs": [
    {
     "data": {
      "text/plain": [
       "Text(0.5, 1.0, 'Number of medium haul flights departing per hour')"
      ]
     },
     "execution_count": 1508,
     "metadata": {},
     "output_type": "execute_result"
    },
    {
     "data": {
      "image/png": "[encoded data removed]",
      "text/plain": [
       "<Figure size 432x288 with 1 Axes>"
      ]
     },
     "metadata": {
      "needs_background": "light"
     },
     "output_type": "display_data"
    }
   ],
   "source": [
    "sns.barplot(x=medium_flights_per_h.index, y=medium_flights_per_h.values)\n",
    "plt.xlabel('Depature hour')\n",
    "plt.ylabel('Number of medium haul flights')\n",
    "plt.title('Number of medium haul flights departing per hour')"
   ]
  },
  {
   "cell_type": "code",
   "execution_count": 1494,
   "metadata": {},
   "outputs": [
    {
     "data": {
      "text/plain": [
       "Text(0.5, 1.0, 'Number of long haul flights departing per hour')"
      ]
     },
     "execution_count": 1494,
     "metadata": {},
     "output_type": "execute_result"
    },
    {
     "data": {
      "image/png": "[encoded data removed]",
      "text/plain": [
       "<Figure size 432x288 with 1 Axes>"
      ]
     },
     "metadata": {
      "needs_background": "light"
     },
     "output_type": "display_data"
    }
   ],
   "source": [
    "sns.barplot(x=long_flights_per_h.index, y=long_flights_per_h.values)\n",
    "plt.xlabel('Depature hour')\n",
    "plt.ylabel('Number of long haul flights')\n",
    "plt.title('Number of long haul flights departing per hour')"
   ]
  },
  {
   "cell_type": "markdown",
   "metadata": {},
   "source": [
    "#### **Task 9**: Find the top 10 the bussiest airports. Does the biggest number of flights mean that the biggest number of passengers went through the particular airport? How much traffic do these 10 airports cover?"
   ]
  },
  {
   "cell_type": "code",
   "execution_count": 1454,
   "metadata": {},
   "outputs": [
    {
     "data": {
      "text/html": [
       "<div>\n",
       "<style scoped>\n",
       "    .dataframe tbody tr th:only-of-type {\n",
       "        vertical-align: middle;\n",
       "    }\n",
       "\n",
       "    .dataframe tbody tr th {\n",
       "        vertical-align: top;\n",
       "    }\n",
       "\n",
       "    .dataframe thead th {\n",
       "        text-align: right;\n",
       "    }\n",
       "</style>\n",
       "<table border=\"1\" class=\"dataframe\">\n",
       "  <thead>\n",
       "    <tr style=\"text-align: right;\">\n",
       "      <th></th>\n",
       "      <th>fl_date</th>\n",
       "      <th>mkt_unique_carrier</th>\n",
       "      <th>mkt_carrier_fl_num</th>\n",
       "      <th>origin</th>\n",
       "      <th>dest</th>\n",
       "      <th>crs_dep_time</th>\n",
       "      <th>dep_time</th>\n",
       "      <th>dep_delay</th>\n",
       "      <th>taxi_out</th>\n",
       "      <th>wheels_off</th>\n",
       "      <th>wheels_on</th>\n",
       "      <th>taxi_in</th>\n",
       "      <th>crs_arr_time</th>\n",
       "      <th>arr_time</th>\n",
       "      <th>arr_delay</th>\n",
       "      <th>crs_elapsed_time</th>\n",
       "      <th>actual_elapsed_time</th>\n",
       "      <th>air_time</th>\n",
       "      <th>flights</th>\n",
       "      <th>distance</th>\n",
       "    </tr>\n",
       "  </thead>\n",
       "  <tbody>\n",
       "    <tr>\n",
       "      <th>0</th>\n",
       "      <td>2019-12-07</td>\n",
       "      <td>WN</td>\n",
       "      <td>3263</td>\n",
       "      <td>LBB</td>\n",
       "      <td>DAL</td>\n",
       "      <td>1550</td>\n",
       "      <td>1545.0</td>\n",
       "      <td>-5.0</td>\n",
       "      <td>10.0</td>\n",
       "      <td>1555.0</td>\n",
       "      <td>1644.0</td>\n",
       "      <td>4.0</td>\n",
       "      <td>1655</td>\n",
       "      <td>1648.0</td>\n",
       "      <td>-7.0</td>\n",
       "      <td>65.0</td>\n",
       "      <td>63.0</td>\n",
       "      <td>49.0</td>\n",
       "      <td>1.0</td>\n",
       "      <td>293.0</td>\n",
       "    </tr>\n",
       "    <tr>\n",
       "      <th>1</th>\n",
       "      <td>2019-04-06</td>\n",
       "      <td>AA</td>\n",
       "      <td>2514</td>\n",
       "      <td>JFK</td>\n",
       "      <td>AUS</td>\n",
       "      <td>835</td>\n",
       "      <td>829.0</td>\n",
       "      <td>-6.0</td>\n",
       "      <td>20.0</td>\n",
       "      <td>849.0</td>\n",
       "      <td>1138.0</td>\n",
       "      <td>60.0</td>\n",
       "      <td>1153</td>\n",
       "      <td>1238.0</td>\n",
       "      <td>45.0</td>\n",
       "      <td>258.0</td>\n",
       "      <td>309.0</td>\n",
       "      <td>229.0</td>\n",
       "      <td>1.0</td>\n",
       "      <td>1521.0</td>\n",
       "    </tr>\n",
       "    <tr>\n",
       "      <th>2</th>\n",
       "      <td>2019-07-12</td>\n",
       "      <td>AS</td>\n",
       "      <td>19</td>\n",
       "      <td>MCO</td>\n",
       "      <td>SEA</td>\n",
       "      <td>1925</td>\n",
       "      <td>1918.0</td>\n",
       "      <td>-7.0</td>\n",
       "      <td>21.0</td>\n",
       "      <td>1939.0</td>\n",
       "      <td>2223.0</td>\n",
       "      <td>5.0</td>\n",
       "      <td>2235</td>\n",
       "      <td>2228.0</td>\n",
       "      <td>-7.0</td>\n",
       "      <td>370.0</td>\n",
       "      <td>370.0</td>\n",
       "      <td>344.0</td>\n",
       "      <td>1.0</td>\n",
       "      <td>2554.0</td>\n",
       "    </tr>\n",
       "    <tr>\n",
       "      <th>3</th>\n",
       "      <td>2019-08-23</td>\n",
       "      <td>DL</td>\n",
       "      <td>884</td>\n",
       "      <td>MSP</td>\n",
       "      <td>SAN</td>\n",
       "      <td>1802</td>\n",
       "      <td>1821.0</td>\n",
       "      <td>19.0</td>\n",
       "      <td>19.0</td>\n",
       "      <td>1840.0</td>\n",
       "      <td>1951.0</td>\n",
       "      <td>5.0</td>\n",
       "      <td>1948</td>\n",
       "      <td>1956.0</td>\n",
       "      <td>8.0</td>\n",
       "      <td>226.0</td>\n",
       "      <td>215.0</td>\n",
       "      <td>191.0</td>\n",
       "      <td>1.0</td>\n",
       "      <td>1532.0</td>\n",
       "    </tr>\n",
       "    <tr>\n",
       "      <th>4</th>\n",
       "      <td>2019-11-26</td>\n",
       "      <td>DL</td>\n",
       "      <td>3057</td>\n",
       "      <td>SNA</td>\n",
       "      <td>SLC</td>\n",
       "      <td>1315</td>\n",
       "      <td>1312.0</td>\n",
       "      <td>-3.0</td>\n",
       "      <td>10.0</td>\n",
       "      <td>1322.0</td>\n",
       "      <td>1556.0</td>\n",
       "      <td>6.0</td>\n",
       "      <td>1603</td>\n",
       "      <td>1602.0</td>\n",
       "      <td>-1.0</td>\n",
       "      <td>108.0</td>\n",
       "      <td>110.0</td>\n",
       "      <td>94.0</td>\n",
       "      <td>1.0</td>\n",
       "      <td>588.0</td>\n",
       "    </tr>\n",
       "  </tbody>\n",
       "</table>\n",
       "</div>"
      ],
      "text/plain": [
       "      fl_date mkt_unique_carrier  mkt_carrier_fl_num origin dest  \\\n",
       "0  2019-12-07                 WN                3263    LBB  DAL   \n",
       "1  2019-04-06                 AA                2514    JFK  AUS   \n",
       "2  2019-07-12                 AS                  19    MCO  SEA   \n",
       "3  2019-08-23                 DL                 884    MSP  SAN   \n",
       "4  2019-11-26                 DL                3057    SNA  SLC   \n",
       "\n",
       "   crs_dep_time  dep_time  dep_delay  taxi_out  wheels_off  wheels_on  \\\n",
       "0          1550    1545.0       -5.0      10.0      1555.0     1644.0   \n",
       "1           835     829.0       -6.0      20.0       849.0     1138.0   \n",
       "2          1925    1918.0       -7.0      21.0      1939.0     2223.0   \n",
       "3          1802    1821.0       19.0      19.0      1840.0     1951.0   \n",
       "4          1315    1312.0       -3.0      10.0      1322.0     1556.0   \n",
       "\n",
       "   taxi_in  crs_arr_time  arr_time  arr_delay  crs_elapsed_time  \\\n",
       "0      4.0          1655    1648.0       -7.0              65.0   \n",
       "1     60.0          1153    1238.0       45.0             258.0   \n",
       "2      5.0          2235    2228.0       -7.0             370.0   \n",
       "3      5.0          1948    1956.0        8.0             226.0   \n",
       "4      6.0          1603    1602.0       -1.0             108.0   \n",
       "\n",
       "   actual_elapsed_time  air_time  flights  distance  \n",
       "0                 63.0      49.0      1.0     293.0  \n",
       "1                309.0     229.0      1.0    1521.0  \n",
       "2                370.0     344.0      1.0    2554.0  \n",
       "3                215.0     191.0      1.0    1532.0  \n",
       "4                110.0      94.0      1.0     588.0  "
      ]
     },
     "execution_count": 1454,
     "metadata": {},
     "output_type": "execute_result"
    }
   ],
   "source": [
    "df = pd.read_csv('sample.csv', sep=',')\n",
    "df = df.drop(columns=['Unnamed: 0', 'branded_code_share', 'mkt_carrier', 'op_unique_carrier', 'tail_num', \\\n",
    "                      'op_carrier_fl_num', 'origin_airport_id', 'dest_airport_id', 'carrier_delay', 'weather_delay', \\\n",
    "                      'nas_delay', 'security_delay', 'late_aircraft_delay', 'first_dep_time', 'total_add_gtime', \\\n",
    "                      'longest_add_gtime', 'no_name', 'origin_city_name', 'dest_city_name', 'cancelled', \\\n",
    "                     'cancellation_code', 'diverted', 'dup'])\n",
    "df.head()"
   ]
  },
  {
   "cell_type": "code",
   "execution_count": 1479,
   "metadata": {},
   "outputs": [],
   "source": [
    "top_10_origin = df.groupby('origin')['flights'].count().sort_values(ascending=False).nlargest(10)\n",
    "top_10_dest = df.groupby('dest')['flights'].count().sort_values(ascending=False).nlargest(10)"
   ]
  },
  {
   "cell_type": "code",
   "execution_count": 1480,
   "metadata": {},
   "outputs": [
    {
     "data": {
      "text/plain": [
       "Text(0.5, 1.0, 'Top 10 busiest airports for flight origin')"
      ]
     },
     "execution_count": 1480,
     "metadata": {},
     "output_type": "execute_result"
    },
    {
     "data": {
      "image/png": "[encoded data removed]",
      "text/plain": [
       "<Figure size 432x288 with 1 Axes>"
      ]
     },
     "metadata": {
      "needs_background": "light"
     },
     "output_type": "display_data"
    }
   ],
   "source": [
    "sns.barplot(x=top_10_origin.index, y=top_10_origin.values)\n",
    "plt.xlabel('origin')\n",
    "plt.ylabel('Number of flights')\n",
    "plt.title('Top 10 busiest airports for flight origin')"
   ]
  },
  {
   "cell_type": "code",
   "execution_count": 1481,
   "metadata": {},
   "outputs": [
    {
     "data": {
      "text/plain": [
       "Text(0.5, 1.0, 'Top 10 busiest airports for flight destination')"
      ]
     },
     "execution_count": 1481,
     "metadata": {},
     "output_type": "execute_result"
    },
    {
     "data": {
      "image/png": "[encoded data removed]",
      "text/plain": [
       "<Figure size 432x288 with 1 Axes>"
      ]
     },
     "metadata": {
      "needs_background": "light"
     },
     "output_type": "display_data"
    }
   ],
   "source": [
    "sns.barplot(x=top_10_origin.index, y=top_10_origin.values)\n",
    "plt.xlabel('destination')\n",
    "plt.ylabel('Number of flights')\n",
    "plt.title('Top 10 busiest airports for flight destination')"
   ]
  },
  {
   "cell_type": "code",
   "execution_count": 1557,
   "metadata": {},
   "outputs": [],
   "source": [
    "top_10_late_carriers= df.groupby('mkt_unique_carrier')['arr_delay'].mean().sort_values(ascending=False).nlargest(10)"
   ]
  },
  {
   "cell_type": "code",
   "execution_count": 1558,
   "metadata": {},
   "outputs": [
    {
     "data": {
      "text/plain": [
       "mkt_unique_carrier\n",
       "B6    11.765281\n",
       "UA     9.124062\n",
       "AA     6.974196\n",
       "F9     6.647059\n",
       "G4     6.428571\n",
       "WN     3.543317\n",
       "DL     3.489065\n",
       "NK     2.124424\n",
       "AS     0.256619\n",
       "HA    -1.620155\n",
       "Name: arr_delay, dtype: float64"
      ]
     },
     "execution_count": 1558,
     "metadata": {},
     "output_type": "execute_result"
    }
   ],
   "source": [
    "top_10_late_carriers"
   ]
  },
  {
   "cell_type": "markdown",
   "metadata": {},
   "source": [
    "#### **Task 10**: Do bigger delays lead to bigger fuel comsumption per passenger? \n",
    "We need to do four things to answer this as accurate as possible:\n",
    "- Find out average monthly delay per air carrier (monthly delay is sum of all delays in 1 month)\n",
    "- Find out distance covered monthly by different air carriers\n",
    "- Find out number of passengers that were carried by different air carriers\n",
    "- Find out total fuel comsumption per air carrier.\n",
    "\n",
    "Use this information to get the average fuel comsumption per passenger per km. Is this higher for the airlines with bigger average delays?"
   ]
  },
  {
   "cell_type": "code",
   "execution_count": 1560,
   "metadata": {},
   "outputs": [
    {
     "ename": "NameError",
     "evalue": "name 'sample' is not defined",
     "output_type": "error",
     "traceback": [
      "\u001b[0;31m---------------------------------------------------------------------------\u001b[0m",
      "\u001b[0;31mNameError\u001b[0m                                 Traceback (most recent call last)",
      "\u001b[0;32m<ipython-input-1560-bd39fd532662>\u001b[0m in \u001b[0;36m<module>\u001b[0;34m\u001b[0m\n\u001b[0;32m----> 1\u001b[0;31m \u001b[0msample\u001b[0m\u001b[0;34m.\u001b[0m\u001b[0mgroupby\u001b[0m\u001b[0;34m(\u001b[0m\u001b[0;34m'mkt_unique_carrier'\u001b[0m\u001b[0;34m)\u001b[0m\u001b[0;34m[\u001b[0m\u001b[0;34m'arr_delay'\u001b[0m\u001b[0;34m]\u001b[0m\u001b[0;34m.\u001b[0m\u001b[0mmean\u001b[0m\u001b[0;34m(\u001b[0m\u001b[0;34m)\u001b[0m\u001b[0;34m\u001b[0m\u001b[0;34m\u001b[0m\u001b[0m\n\u001b[0m",
      "\u001b[0;31mNameError\u001b[0m: name 'sample' is not defined"
     ]
    }
   ],
   "source": [
    "sample.groupby('mkt_unique_carrier')['arr_delay'].mean()"
   ]
  },
  {
   "cell_type": "code",
   "execution_count": null,
   "metadata": {},
   "outputs": [],
   "source": []
  }
 ],
 "metadata": {
  "kernelspec": {
   "display_name": "Python 3",
   "language": "python",
   "name": "python3"
  },
  "language_info": {
   "codemirror_mode": {
    "name": "ipython",
    "version": 3
   },
   "file_extension": ".py",
   "mimetype": "text/x-python",
   "name": "python",
   "nbconvert_exporter": "python",
   "pygments_lexer": "ipython3",
   "version": "3.8.5"
  },
  "toc": {
   "base_numbering": 1,
   "nav_menu": {},
   "number_sections": true,
   "sideBar": true,
   "skip_h1_title": false,
   "title_cell": "Table of Contents",
   "title_sidebar": "Contents",
   "toc_cell": false,
   "toc_position": {},
   "toc_section_display": true,
   "toc_window_display": false
  },
  "varInspector": {
   "cols": {
    "lenName": 16,
    "lenType": 16,
    "lenVar": 40
   },
   "kernels_config": {
    "python": {
     "delete_cmd_postfix": "",
     "delete_cmd_prefix": "del ",
     "library": "var_list.py",
     "varRefreshCmd": "print(var_dic_list())"
    },
    "r": {
     "delete_cmd_postfix": ") ",
     "delete_cmd_prefix": "rm(",
     "library": "var_list.r",
     "varRefreshCmd": "cat(var_dic_list()) "
    }
   },
   "types_to_exclude": [
    "module",
    "function",
    "builtin_function_or_method",
    "instance",
    "_Feature"
   ],
   "window_display": false
  }
 },
 "nbformat": 4,
 "nbformat_minor": 4
}
